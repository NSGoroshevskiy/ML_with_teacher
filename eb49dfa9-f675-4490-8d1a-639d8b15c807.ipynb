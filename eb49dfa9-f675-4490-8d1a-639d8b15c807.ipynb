{
 "cells": [
  {
   "cell_type": "markdown",
   "metadata": {
    "toc": true
   },
   "source": [
    "<h1>Содержание<span class=\"tocSkip\"></span></h1>\n",
    "<div class=\"toc\"><ul class=\"toc-item\"><li><span><a href=\"#Описание-проекта\" data-toc-modified-id=\"Описание-проекта-1\"><span class=\"toc-item-num\">1&nbsp;&nbsp;</span>Описание проекта</a></span></li><li><span><a href=\"#Подготовка-данных\" data-toc-modified-id=\"Подготовка-данных-2\"><span class=\"toc-item-num\">2&nbsp;&nbsp;</span>Подготовка данных</a></span></li><li><span><a href=\"#Исследование-задачи\" data-toc-modified-id=\"Исследование-задачи-3\"><span class=\"toc-item-num\">3&nbsp;&nbsp;</span>Исследование задачи</a></span></li><li><span><a href=\"#Борьба-с-дисбалансом\" data-toc-modified-id=\"Борьба-с-дисбалансом-4\"><span class=\"toc-item-num\">4&nbsp;&nbsp;</span>Борьба с дисбалансом</a></span></li><li><span><a href=\"#Тестирование-модели\" data-toc-modified-id=\"Тестирование-модели-5\"><span class=\"toc-item-num\">5&nbsp;&nbsp;</span>Тестирование модели</a></span></li><li><span><a href=\"#Итоги-работы\" data-toc-modified-id=\"Итоги-работы-6\"><span class=\"toc-item-num\">6&nbsp;&nbsp;</span>Итоги работы</a></span></li><li><span><a href=\"#Чек-лист-готовности-проекта\" data-toc-modified-id=\"Чек-лист-готовности-проекта-7\"><span class=\"toc-item-num\">7&nbsp;&nbsp;</span>Чек-лист готовности проекта</a></span></li></ul></div>"
   ]
  },
  {
   "cell_type": "markdown",
   "metadata": {},
   "source": [
    "# Отток клиентов"
   ]
  },
  {
   "cell_type": "markdown",
   "metadata": {},
   "source": [
    "Из «Бета-Банка» стали уходить клиенты. Каждый месяц. Немного, но заметно. Банковские маркетологи посчитали: сохранять текущих клиентов дешевле, чем привлекать новых.\n",
    "\n",
    "Нужно спрогнозировать, уйдёт клиент из банка в ближайшее время или нет. Вам предоставлены исторические данные о поведении клиентов и расторжении договоров с банком. \n",
    "\n",
    "Постройте модель с предельно большим значением *F1*-меры. Чтобы сдать проект успешно, нужно довести метрику до 0.59. Проверьте *F1*-меру на тестовой выборке самостоятельно.\n",
    "\n",
    "Дополнительно измеряйте *AUC-ROC*, сравнивайте её значение с *F1*-мерой.\n",
    "\n",
    "Источник данных: [https://www.kaggle.com/barelydedicated/bank-customer-churn-modeling](https://www.kaggle.com/barelydedicated/bank-customer-churn-modeling)"
   ]
  },
  {
   "cell_type": "markdown",
   "metadata": {},
   "source": [
    "## Описание проекта"
   ]
  },
  {
   "cell_type": "markdown",
   "metadata": {},
   "source": [
    "В рамках проекта дан датафрейм с информацией о клиентах банка - индивидуальные номера, фамилии, кредитный рейтинг, страна, пол, возраст, срок обслуживания в банке, баланс на счёте, количество используемых банковских продуктов, наличие кредитной карты, активность использования банковских услуг, ориентировочная зарплата, а также кодированные данные, отражающие факт прекращения пользования банковскими услугами. Цель - обучить модель, предсказывающую отток клиентов (прекращение пользования услугами банка) с наивысшей метрикой F1 не ниже 0.59.\n",
    "\n",
    "Для достижения цели предусмотрены следующие задачи: 1) подготовка данных (информация о датафрейме, его содержимом, корреляциях количественных значений, наличии дубликатов и пропусков, определение целевого признака и дисбаланса); 2) исследование задачи (определение обучающей, валидационной и тестовой выборок, обучение альфа-версий моделей без корректиировки дисбаланса, проверка моделей на вменяемость); 3) борьба с дисбалансом (применение ряда методов для устранения дисбаланса, обновление обучающей, валидационной и тестовой выборок, улучшение моделей, проверка моделей на вменяемость, опеределение наилучшей модели по метрике F1); 4) тестирование наилучшей модели на тестовой выборке несбалансированного (оригинального) датафрейма, сверка метрики F1 с контрольным значением, предусмотренным заданием."
   ]
  },
  {
   "cell_type": "markdown",
   "metadata": {},
   "source": [
    "## Подготовка данных"
   ]
  },
  {
   "cell_type": "markdown",
   "metadata": {},
   "source": [
    "Импортируем библиотеки."
   ]
  },
  {
   "cell_type": "code",
   "execution_count": 68,
   "metadata": {},
   "outputs": [],
   "source": [
    "import pandas as pd\n",
    "pd.set_option('display.max_columns', None)\n",
    "import seaborn as sn\n",
    "import matplotlib.pyplot as plt\n",
    "\n",
    "from sklearn.preprocessing import StandardScaler\n",
    "from sklearn.preprocessing import OneHotEncoder\n",
    "from sklearn.model_selection import train_test_split\n",
    "from sklearn.metrics import mean_absolute_error\n",
    "from sklearn.metrics import f1_score\n",
    "from sklearn.metrics import roc_curve\n",
    "from sklearn.metrics import roc_auc_score\n",
    "from sklearn.tree import DecisionTreeClassifier, DecisionTreeRegressor\n",
    "from sklearn.ensemble import RandomForestClassifier, RandomForestRegressor\n",
    "from sklearn.linear_model import LogisticRegression\n",
    "from sklearn.dummy import DummyClassifier\n",
    "from sklearn.compose import make_column_transformer\n",
    "\n",
    "from tqdm import tqdm\n",
    "from sklearn.utils import shuffle\n",
    "from joblib import dump\n",
    "from joblib import load\n"
   ]
  },
  {
   "cell_type": "markdown",
   "metadata": {},
   "source": [
    "Изучим заданный датафрейм."
   ]
  },
  {
   "cell_type": "code",
   "execution_count": 2,
   "metadata": {},
   "outputs": [
    {
     "name": "stdout",
     "output_type": "stream",
     "text": [
      "(10000, 14)\n"
     ]
    },
    {
     "data": {
      "text/html": [
       "<div>\n",
       "<style scoped>\n",
       "    .dataframe tbody tr th:only-of-type {\n",
       "        vertical-align: middle;\n",
       "    }\n",
       "\n",
       "    .dataframe tbody tr th {\n",
       "        vertical-align: top;\n",
       "    }\n",
       "\n",
       "    .dataframe thead th {\n",
       "        text-align: right;\n",
       "    }\n",
       "</style>\n",
       "<table border=\"1\" class=\"dataframe\">\n",
       "  <thead>\n",
       "    <tr style=\"text-align: right;\">\n",
       "      <th></th>\n",
       "      <th>RowNumber</th>\n",
       "      <th>CustomerId</th>\n",
       "      <th>Surname</th>\n",
       "      <th>CreditScore</th>\n",
       "      <th>Geography</th>\n",
       "      <th>Gender</th>\n",
       "      <th>Age</th>\n",
       "      <th>Tenure</th>\n",
       "      <th>Balance</th>\n",
       "      <th>NumOfProducts</th>\n",
       "      <th>HasCrCard</th>\n",
       "      <th>IsActiveMember</th>\n",
       "      <th>EstimatedSalary</th>\n",
       "      <th>Exited</th>\n",
       "    </tr>\n",
       "  </thead>\n",
       "  <tbody>\n",
       "    <tr>\n",
       "      <th>0</th>\n",
       "      <td>1</td>\n",
       "      <td>15634602</td>\n",
       "      <td>Hargrave</td>\n",
       "      <td>619</td>\n",
       "      <td>France</td>\n",
       "      <td>Female</td>\n",
       "      <td>42</td>\n",
       "      <td>2.0</td>\n",
       "      <td>0.00</td>\n",
       "      <td>1</td>\n",
       "      <td>1</td>\n",
       "      <td>1</td>\n",
       "      <td>101348.88</td>\n",
       "      <td>1</td>\n",
       "    </tr>\n",
       "    <tr>\n",
       "      <th>1</th>\n",
       "      <td>2</td>\n",
       "      <td>15647311</td>\n",
       "      <td>Hill</td>\n",
       "      <td>608</td>\n",
       "      <td>Spain</td>\n",
       "      <td>Female</td>\n",
       "      <td>41</td>\n",
       "      <td>1.0</td>\n",
       "      <td>83807.86</td>\n",
       "      <td>1</td>\n",
       "      <td>0</td>\n",
       "      <td>1</td>\n",
       "      <td>112542.58</td>\n",
       "      <td>0</td>\n",
       "    </tr>\n",
       "    <tr>\n",
       "      <th>2</th>\n",
       "      <td>3</td>\n",
       "      <td>15619304</td>\n",
       "      <td>Onio</td>\n",
       "      <td>502</td>\n",
       "      <td>France</td>\n",
       "      <td>Female</td>\n",
       "      <td>42</td>\n",
       "      <td>8.0</td>\n",
       "      <td>159660.80</td>\n",
       "      <td>3</td>\n",
       "      <td>1</td>\n",
       "      <td>0</td>\n",
       "      <td>113931.57</td>\n",
       "      <td>1</td>\n",
       "    </tr>\n",
       "    <tr>\n",
       "      <th>3</th>\n",
       "      <td>4</td>\n",
       "      <td>15701354</td>\n",
       "      <td>Boni</td>\n",
       "      <td>699</td>\n",
       "      <td>France</td>\n",
       "      <td>Female</td>\n",
       "      <td>39</td>\n",
       "      <td>1.0</td>\n",
       "      <td>0.00</td>\n",
       "      <td>2</td>\n",
       "      <td>0</td>\n",
       "      <td>0</td>\n",
       "      <td>93826.63</td>\n",
       "      <td>0</td>\n",
       "    </tr>\n",
       "    <tr>\n",
       "      <th>4</th>\n",
       "      <td>5</td>\n",
       "      <td>15737888</td>\n",
       "      <td>Mitchell</td>\n",
       "      <td>850</td>\n",
       "      <td>Spain</td>\n",
       "      <td>Female</td>\n",
       "      <td>43</td>\n",
       "      <td>2.0</td>\n",
       "      <td>125510.82</td>\n",
       "      <td>1</td>\n",
       "      <td>1</td>\n",
       "      <td>1</td>\n",
       "      <td>79084.10</td>\n",
       "      <td>0</td>\n",
       "    </tr>\n",
       "  </tbody>\n",
       "</table>\n",
       "</div>"
      ],
      "text/plain": [
       "   RowNumber  CustomerId   Surname  CreditScore Geography  Gender  Age  \\\n",
       "0          1    15634602  Hargrave          619    France  Female   42   \n",
       "1          2    15647311      Hill          608     Spain  Female   41   \n",
       "2          3    15619304      Onio          502    France  Female   42   \n",
       "3          4    15701354      Boni          699    France  Female   39   \n",
       "4          5    15737888  Mitchell          850     Spain  Female   43   \n",
       "\n",
       "   Tenure    Balance  NumOfProducts  HasCrCard  IsActiveMember  \\\n",
       "0     2.0       0.00              1          1               1   \n",
       "1     1.0   83807.86              1          0               1   \n",
       "2     8.0  159660.80              3          1               0   \n",
       "3     1.0       0.00              2          0               0   \n",
       "4     2.0  125510.82              1          1               1   \n",
       "\n",
       "   EstimatedSalary  Exited  \n",
       "0        101348.88       1  \n",
       "1        112542.58       0  \n",
       "2        113931.57       1  \n",
       "3         93826.63       0  \n",
       "4         79084.10       0  "
      ]
     },
     "metadata": {},
     "output_type": "display_data"
    },
    {
     "name": "stdout",
     "output_type": "stream",
     "text": [
      "<class 'pandas.core.frame.DataFrame'>\n",
      "RangeIndex: 10000 entries, 0 to 9999\n",
      "Data columns (total 14 columns):\n",
      " #   Column           Non-Null Count  Dtype  \n",
      "---  ------           --------------  -----  \n",
      " 0   RowNumber        10000 non-null  int64  \n",
      " 1   CustomerId       10000 non-null  int64  \n",
      " 2   Surname          10000 non-null  object \n",
      " 3   CreditScore      10000 non-null  int64  \n",
      " 4   Geography        10000 non-null  object \n",
      " 5   Gender           10000 non-null  object \n",
      " 6   Age              10000 non-null  int64  \n",
      " 7   Tenure           9091 non-null   float64\n",
      " 8   Balance          10000 non-null  float64\n",
      " 9   NumOfProducts    10000 non-null  int64  \n",
      " 10  HasCrCard        10000 non-null  int64  \n",
      " 11  IsActiveMember   10000 non-null  int64  \n",
      " 12  EstimatedSalary  10000 non-null  float64\n",
      " 13  Exited           10000 non-null  int64  \n",
      "dtypes: float64(3), int64(8), object(3)\n",
      "memory usage: 1.1+ MB\n"
     ]
    },
    {
     "data": {
      "text/plain": [
       "RowNumber            0\n",
       "CustomerId           0\n",
       "Surname              0\n",
       "CreditScore          0\n",
       "Geography            0\n",
       "Gender               0\n",
       "Age                  0\n",
       "Tenure             909\n",
       "Balance              0\n",
       "NumOfProducts        0\n",
       "HasCrCard            0\n",
       "IsActiveMember       0\n",
       "EstimatedSalary      0\n",
       "Exited               0\n",
       "dtype: int64"
      ]
     },
     "execution_count": 2,
     "metadata": {},
     "output_type": "execute_result"
    }
   ],
   "source": [
    "data = pd.read_csv('/datasets/Churn.csv')\n",
    "print(data.shape)\n",
    "display(data[:5])\n",
    "data.info()\n",
    "data.isnull().sum()"
   ]
  },
  {
   "cell_type": "markdown",
   "metadata": {},
   "source": [
    "Датафрейм состоит из 14 столбцов и 10000 строк. Каждая строка обозначает уникального клиента банка. Столбцы обозначают: порядковый номер объекта, уникальный номер клиента, фамилию, кредитный рейтинг, страну, пол, возраст, срок обслуживания в банке, баланс на счёте, количество используемых банковских продуктов, наличие кредитной карты (кодировано через 0 и 1), активность использования банковских услуг (кодировано через 0 и 1), ориентировочная зарплата, а также данные, отражающие факт прекращения пользования банковскими услугами (кодировано через 0 и 1).\n",
    "\n",
    "Качественные данные: порядковый номер, уникальный номер, фамилия, страна, пол, наличие кредитной карты, активность использования банковских услуг, данные, отражающие факт прекращения пользования банковскими услугами.\n",
    "\n",
    "Количественные данные: кредитный рейтинг, возраст, срок обслуживания в банке, баланс на счёте, количество используемых банковских продуктов, ориентировочная зарплата.\n",
    "\n",
    "В каждом столбце, кроме срока обслуживания - по 10000 значений. В столбце срока обслуживания обнаружено 909 пропусков."
   ]
  },
  {
   "cell_type": "markdown",
   "metadata": {},
   "source": [
    "Уникальный признак для каждого объекта в датафрейме - идентификационный номер. По нему проверим наличиие дубликатов."
   ]
  },
  {
   "cell_type": "code",
   "execution_count": 3,
   "metadata": {},
   "outputs": [
    {
     "name": "stdout",
     "output_type": "stream",
     "text": [
      "False    10000\n",
      "dtype: int64\n"
     ]
    }
   ],
   "source": [
    "print(data.duplicated(subset='CustomerId').value_counts())"
   ]
  },
  {
   "cell_type": "markdown",
   "metadata": {},
   "source": [
    "Дубликаты не обнаружены."
   ]
  },
  {
   "cell_type": "markdown",
   "metadata": {},
   "source": [
    "Теперь проверим количественные величины на наличие выбросов."
   ]
  },
  {
   "cell_type": "code",
   "execution_count": 4,
   "metadata": {},
   "outputs": [
    {
     "name": "stdout",
     "output_type": "stream",
     "text": [
      "Графики размаха для количественных величин датафрейма\n"
     ]
    },
    {
     "data": {
      "image/png": "[encoded data removed]",
      "text/plain": [
       "<Figure size 432x288 with 1 Axes>"
      ]
     },
     "metadata": {
      "needs_background": "light"
     },
     "output_type": "display_data"
    },
    {
     "data": {
      "image/png": "[encoded data removed]",
      "text/plain": [
       "<Figure size 432x288 with 1 Axes>"
      ]
     },
     "metadata": {
      "needs_background": "light"
     },
     "output_type": "display_data"
    },
    {
     "data": {
      "image/png": "[encoded data removed]",
      "text/plain": [
       "<Figure size 432x288 with 1 Axes>"
      ]
     },
     "metadata": {
      "needs_background": "light"
     },
     "output_type": "display_data"
    },
    {
     "data": {
      "image/png": "[encoded data removed]",
      "text/plain": [
       "<Figure size 432x288 with 1 Axes>"
      ]
     },
     "metadata": {
      "needs_background": "light"
     },
     "output_type": "display_data"
    },
    {
     "data": {
      "image/png": "[encoded data removed]",
      "text/plain": [
       "<Figure size 432x288 with 1 Axes>"
      ]
     },
     "metadata": {
      "needs_background": "light"
     },
     "output_type": "display_data"
    },
    {
     "data": {
      "image/png": "[encoded data removed]",
      "text/plain": [
       "<Figure size 432x288 with 1 Axes>"
      ]
     },
     "metadata": {
      "needs_background": "light"
     },
     "output_type": "display_data"
    }
   ],
   "source": [
    "numeric = data[['CreditScore', 'Age', 'Tenure', 'Balance', 'NumOfProducts', 'EstimatedSalary']]\n",
    "print('Графики размаха для количественных величин датафрейма')\n",
    "for i in numeric:\n",
    "    data.boxplot(column=[i])\n",
    "    plt.show()"
   ]
  },
  {
   "cell_type": "markdown",
   "metadata": {},
   "source": [
    "Неправдоподобных выбросов в количественных данных не обнаружено."
   ]
  },
  {
   "cell_type": "markdown",
   "metadata": {},
   "source": [
    "Проверим значения кодированных качественных величин - в каждом столбце должны быть только значения 0 и/или 1."
   ]
  },
  {
   "cell_type": "code",
   "execution_count": 5,
   "metadata": {},
   "outputs": [
    {
     "name": "stdout",
     "output_type": "stream",
     "text": [
      "1    7055\n",
      "0    2945\n",
      "Name: HasCrCard, dtype: int64\n",
      "1    5151\n",
      "0    4849\n",
      "Name: IsActiveMember, dtype: int64\n",
      "0    7963\n",
      "1    2037\n",
      "Name: Exited, dtype: int64\n"
     ]
    }
   ],
   "source": [
    "coded = data[['HasCrCard', 'IsActiveMember', 'Exited']]\n",
    "for i in coded:\n",
    "    print(data[i].value_counts())"
   ]
  },
  {
   "cell_type": "markdown",
   "metadata": {},
   "source": [
    "В столбцах с кодированными величинами необычных значений не обнаружено."
   ]
  },
  {
   "cell_type": "markdown",
   "metadata": {},
   "source": [
    "Для обучения моделей столбцы с порядковым номером, уникальным номером клиента и фамилией значения не представляют, от них можно избавиться."
   ]
  },
  {
   "cell_type": "code",
   "execution_count": 6,
   "metadata": {},
   "outputs": [],
   "source": [
    "data = data.drop(labels=['RowNumber','CustomerId','Surname'], axis=1)"
   ]
  },
  {
   "cell_type": "markdown",
   "metadata": {},
   "source": [
    "Для профилактики мультиколлинеарности проверим корреляцию признаков датафрейма на матрице. Пороговым значением обозначим корреляцию 0.5."
   ]
  },
  {
   "cell_type": "code",
   "execution_count": 7,
   "metadata": {},
   "outputs": [
    {
     "data": {
      "image/png": "[encoded data removed]",
      "text/plain": [
       "<Figure size 432x288 with 2 Axes>"
      ]
     },
     "metadata": {
      "needs_background": "light"
     },
     "output_type": "display_data"
    }
   ],
   "source": [
    "corr_matrix = data.corr()\n",
    "sn.heatmap(corr_matrix, annot=True)\n",
    "plt.title('График корреляции признаков')\n",
    "plt.show()"
   ]
  },
  {
   "cell_type": "markdown",
   "metadata": {},
   "source": [
    "Значительной корреляции между признаками не обнаружено."
   ]
  },
  {
   "cell_type": "markdown",
   "metadata": {},
   "source": [
    "Преобразуем строчные данные в числовые с применением OneHotEncoder-кодирования, предотвращая dummy-ловушку."
   ]
  },
  {
   "cell_type": "code",
   "execution_count": 8,
   "metadata": {},
   "outputs": [],
   "source": [
    "transformer = make_column_transformer(\n",
    "    (OneHotEncoder(drop='first'), ['Geography','Gender']),\n",
    "    remainder='passthrough')\n",
    "\n",
    "data_transformed = transformer.fit_transform(data)\n",
    "data = pd.DataFrame(\n",
    "    data_transformed, \n",
    "    columns=transformer.get_feature_names()\n",
    ")"
   ]
  },
  {
   "cell_type": "markdown",
   "metadata": {},
   "source": [
    "Избавимся от пропусков в столбце со сроком обслуживания в банке. Удаление строк с отсутствующими данными привело бы к существенной потере информации.\n",
    "\n",
    "Для заполнения пропусков в столбце с количественными показателями обучим модели-регрессоры и сравним их метрики среднего абсолютного отклонения с dummy-моделью, заполняющей пропуски медианным значением. Если метрика модели-регрессора будет выше метрики dummy-модели, для заполнения используем предсказания модели-регрессора, если ниже - используем заполнение пропусков медианой."
   ]
  },
  {
   "cell_type": "code",
   "execution_count": 9,
   "metadata": {},
   "outputs": [],
   "source": [
    "df_1 = data.copy()"
   ]
  },
  {
   "cell_type": "code",
   "execution_count": 10,
   "metadata": {},
   "outputs": [],
   "source": [
    "tenure_0 = df_1.loc[df_1['Tenure'].isna()==True]\n",
    "tenure_1 = df_1.loc[df_1['Tenure'].isna()==False]\n",
    "features_0 = tenure_0.drop(labels='Tenure', axis=1)\n",
    "target_0 = tenure_0['Tenure']\n",
    "features_1 = tenure_1.drop(labels='Tenure', axis=1)\n",
    "target_1 = tenure_1['Tenure']"
   ]
  },
  {
   "cell_type": "code",
   "execution_count": 11,
   "metadata": {},
   "outputs": [
    {
     "name": "stdout",
     "output_type": "stream",
     "text": [
      "(6818, 11)\n",
      "(6818,)\n",
      "(2273, 11)\n",
      "(2273,)\n"
     ]
    }
   ],
   "source": [
    "features_1_train, features_1_valid, target_1_train, target_1_valid = \\\n",
    "train_test_split(\n",
    "    features_1, target_1, test_size=0.25,\n",
    "    random_state=12345, stratify=target_1)\n",
    "print(features_1_train.shape)\n",
    "print(target_1_train.shape)\n",
    "\n",
    "print(features_1_valid.shape)\n",
    "print(target_1_valid.shape)"
   ]
  },
  {
   "cell_type": "code",
   "execution_count": 12,
   "metadata": {},
   "outputs": [
    {
     "name": "stdout",
     "output_type": "stream",
     "text": [
      "2.48614166300044\n"
     ]
    }
   ],
   "source": [
    "predictions_constant = pd.Series(target_1_train.median(),\n",
    "                                 index = target_1_valid.index)\n",
    "mae_constant = mean_absolute_error(target_1_valid, predictions_constant)\n",
    "print(mae_constant)"
   ]
  },
  {
   "cell_type": "code",
   "execution_count": 13,
   "metadata": {},
   "outputs": [
    {
     "name": "stderr",
     "output_type": "stream",
     "text": [
      "100%|██████████| 9/9 [00:03<00:00,  2.74it/s]\n",
      "100%|██████████| 9/9 [00:01<00:00,  7.53it/s]\n"
     ]
    }
   ],
   "source": [
    "best_mae = mae_constant\n",
    "for splitter_value in ['best', 'random']:\n",
    "    for min_samples_leaf_value in tqdm(range(1,10,1)):\n",
    "        for depth in range(1,20,1):\n",
    "            model = DecisionTreeRegressor(\n",
    "                splitter=splitter_value,\n",
    "                min_samples_leaf=min_samples_leaf_value,\n",
    "                max_depth=depth, random_state=12345\n",
    "            )\n",
    "            model.fit(features_1_train, target_1_train)\n",
    "            predictions_valid = model.predict(features_1_valid)\n",
    "            mae_valid = mean_absolute_error(target_1_valid,\n",
    "                                            predictions_valid)\n",
    "            if mae_valid <= best_mae:\n",
    "                best_mae = mae_valid\n",
    "                best_depth = depth\n",
    "                print('Значение гиперпараметра максимальной глубины:',\\\n",
    "                      best_depth)\n",
    "            else:\n",
    "                pass"
   ]
  },
  {
   "cell_type": "code",
   "execution_count": 14,
   "metadata": {},
   "outputs": [
    {
     "name": "stderr",
     "output_type": "stream",
     "text": [
      "100%|██████████| 19/19 [00:44<00:00,  2.35s/it]\n"
     ]
    }
   ],
   "source": [
    "best_mae = mae_constant\n",
    "for depth in tqdm(range(1,20,1)):\n",
    "    for estimator in range(1,20,1):\n",
    "        model = RandomForestRegressor(\n",
    "            max_depth=depth,\n",
    "            n_estimators=estimator,\n",
    "            random_state=12345\n",
    "        )\n",
    "        model.fit(features_1_train, target_1_train)\n",
    "        predictions_valid = model.predict(features_1_valid)\n",
    "        mae_valid = mean_absolute_error(target_1_valid, predictions_valid)\n",
    "        if mae_valid <= best_mae:\n",
    "            best_mae = mae_valid\n",
    "            best_depth = depth\n",
    "            print('Значение гиперпараметра максимальной глубины:', best_depth)\n",
    "        else:\n",
    "            pass"
   ]
  },
  {
   "cell_type": "markdown",
   "metadata": {},
   "source": [
    "Ни одна из моделей не показала метрику выше, чем у dummy-модели. Заполняем пропуски медианой."
   ]
  },
  {
   "cell_type": "code",
   "execution_count": 15,
   "metadata": {},
   "outputs": [],
   "source": [
    "data['Tenure'] = data['Tenure'].fillna(value=data['Tenure'].median())"
   ]
  },
  {
   "cell_type": "code",
   "execution_count": 16,
   "metadata": {},
   "outputs": [
    {
     "data": {
      "text/plain": [
       "onehotencoder__x0_Germany    0\n",
       "onehotencoder__x0_Spain      0\n",
       "onehotencoder__x1_Male       0\n",
       "CreditScore                  0\n",
       "Age                          0\n",
       "Tenure                       0\n",
       "Balance                      0\n",
       "NumOfProducts                0\n",
       "HasCrCard                    0\n",
       "IsActiveMember               0\n",
       "EstimatedSalary              0\n",
       "Exited                       0\n",
       "dtype: int64"
      ]
     },
     "execution_count": 16,
     "metadata": {},
     "output_type": "execute_result"
    }
   ],
   "source": [
    "data.isnull().sum()"
   ]
  },
  {
   "cell_type": "markdown",
   "metadata": {},
   "source": [
    "Больше пропусков в датафрейме не осталось."
   ]
  },
  {
   "cell_type": "markdown",
   "metadata": {},
   "source": [
    "Зададим целевой признак - информацию о прекращении пользования услугами банка. Целевой признак - качественный, соответственно, мы будем обучать модели-классификаторы."
   ]
  },
  {
   "cell_type": "code",
   "execution_count": 17,
   "metadata": {},
   "outputs": [],
   "source": [
    "features = data.drop(['Exited'], axis=1)\n",
    "target = data['Exited']"
   ]
  },
  {
   "cell_type": "markdown",
   "metadata": {},
   "source": [
    "Исследуем дисбаланс по целевому признаку."
   ]
  },
  {
   "cell_type": "code",
   "execution_count": 18,
   "metadata": {},
   "outputs": [
    {
     "name": "stdout",
     "output_type": "stream",
     "text": [
      "0.0    0.7963\n",
      "1.0    0.2037\n",
      "Name: Exited, dtype: float64\n"
     ]
    }
   ],
   "source": [
    "print(target.value_counts(normalize=True))"
   ]
  },
  {
   "cell_type": "markdown",
   "metadata": {},
   "source": [
    "Почти в 80 процентах объектов значение целевого признака равно 0 - это серьёзный дисбаланс."
   ]
  },
  {
   "cell_type": "markdown",
   "metadata": {},
   "source": [
    "Подведём промежуточные итоги.\n",
    "\n",
    "Датафрейм состоит из 14 столбцов и 10000 строк. Каждая строка обозначает уникального клиента банка. Столбцы обозначают: порядковый номер объекта, уникальный номер клиента, фамилию, кредитный рейтинг, страну, пол, возраст, срок обслуживания в банке, баланс на счёте, количество используемых банковских продуктов, наличие кредитной карты (кодировано через 0 и 1), активность использования банковских услуг (кодировано через 0 и 1), ориентировочная зарплата, а также данные, отражающие факт прекращения пользования банковскими услугами (кодировано через 0 и 1).\n",
    "\n",
    "Качественные данные: порядковый номер, уникальный номер, фамилия, страна, пол, наличие кредитной карты, активность использования банковских услуг, данные, отражающие факт прекращения пользования банковскими услугами. В столбцах с кодированными величинами необычных значений не обнаружено.\n",
    "\n",
    "Количественные данные: кредитный рейтинг, возраст, срок обслуживания в банке, баланс на счёте, количество используемых банковских продуктов, ориентировочная зарплата. Неправдоподобных выбросов в количественных данных не обнаружено. Строчные данные преобразованы в числовые с применением dummy-кодирования во избежание dummy-ловушки.\n",
    "\n",
    "В каждом столбце, кроме срока обслуживания - по 10000 значений. В столбце срока обслуживания обнаружено 909 пропусков. Пропуски заполнены медианным значением.\n",
    "\n",
    "Значительной корреляции между признаками не обнаружено.\n",
    "\n",
    "Задан целевой признак - информация о прекращении пользования услугами банка. Целевой признак - качественный, соответственно, мы будем обучать модели-классификаторы. Почти в 80 процентах объектов значение целевого признака равно 0 - это серьёзный дисбаланс."
   ]
  },
  {
   "cell_type": "markdown",
   "metadata": {},
   "source": [
    "## Исследование задачи"
   ]
  },
  {
   "cell_type": "markdown",
   "metadata": {},
   "source": [
    "Создадим обучающую, валидационную и тестовую выборки."
   ]
  },
  {
   "cell_type": "code",
   "execution_count": 19,
   "metadata": {},
   "outputs": [],
   "source": [
    "features_train_valid, features_test = train_test_split(features, test_size=0.2, random_state=12345)\n",
    "features_train, features_valid = train_test_split(features_train_valid, test_size=0.25, random_state=12345)\n",
    "target_train_valid, target_test = train_test_split(target, test_size=0.2, random_state=12345)\n",
    "target_train, target_valid = train_test_split(target_train_valid, test_size=0.25, random_state=12345)"
   ]
  },
  {
   "cell_type": "markdown",
   "metadata": {},
   "source": [
    "Создадим функцию для построения кривой метрики ROC, вычисления метрики AUC-ROC и сравнения её с метрикой F1."
   ]
  },
  {
   "cell_type": "code",
   "execution_count": 20,
   "metadata": {},
   "outputs": [],
   "source": [
    "def roc_f1 (model, features_valid, target_valid, result):\n",
    "    probabilities_valid = model.predict_proba(features_valid)\n",
    "    probabilities_one_valid = probabilities_valid[:, 1]\n",
    "    fpr, tpr, thresholds = roc_curve(target_valid, probabilities_one_valid)\n",
    "\n",
    "    plt.figure()\n",
    "    plt.plot(fpr, tpr)\n",
    "    plt.plot([0, 1], [0, 1], linestyle='--')\n",
    "    plt.xlim(0,1)\n",
    "    plt.ylim(0,1)\n",
    "    plt.xlabel('False Positive Rate')\n",
    "    plt.ylabel('True Positive Rate')\n",
    "    plt.title('ROC-кривая')\n",
    "\n",
    "    auc_roc = roc_auc_score(target_valid, probabilities_one_valid)\n",
    "\n",
    "    plt.show()\n",
    "    print('Значение AUC-ROC:', auc_roc)\n",
    "    if auc_roc > f1_score(target_valid, predictions):\n",
    "        print('Метрика AUC-ROC больше метрики F1 на', auc_roc-result)\n",
    "    if auc_roc == f1_score(target_valid, predictions):\n",
    "        print('Метрика AUC-ROC равна метрике F1')\n",
    "    if auc_roc < f1_score(target_valid, predictions):\n",
    "        print('Метрика AUC-ROC меньше метрики F1 на', abs(auc_roc-result))"
   ]
  },
  {
   "cell_type": "markdown",
   "metadata": {},
   "source": [
    "Создаём dummy-модель для проверки альфа-версий моделей-классификаторов. Стратегия формирования величин - по константному значению наименьшего класса, поскольку иначе на нулевых значениях метрика F1 тоже будет равен нулю."
   ]
  },
  {
   "cell_type": "code",
   "execution_count": 21,
   "metadata": {},
   "outputs": [
    {
     "name": "stdout",
     "output_type": "stream",
     "text": [
      "Метрика F1 для dummy-модели: 0.32705980761187786\n"
     ]
    },
    {
     "data": {
      "image/png": "[encoded data removed]",
      "text/plain": [
       "<Figure size 432x288 with 1 Axes>"
      ]
     },
     "metadata": {
      "needs_background": "light"
     },
     "output_type": "display_data"
    },
    {
     "name": "stdout",
     "output_type": "stream",
     "text": [
      "Значение AUC-ROC: 0.5\n",
      "Метрика AUC-ROC больше метрики F1 на 0.17294019238812214\n",
      "None\n"
     ]
    }
   ],
   "source": [
    "dummy_clf = DummyClassifier(strategy='constant', constant=1)\n",
    "dummy_clf.fit(features_train, target_train)\n",
    "predictions = dummy_clf.predict(features_valid)\n",
    "result = f1_score(target_valid, predictions)\n",
    "print('Метрика F1 для dummy-модели:', result)\n",
    "\n",
    "print(roc_f1(dummy_clf, features_valid, target_valid, result))"
   ]
  },
  {
   "cell_type": "markdown",
   "metadata": {},
   "source": [
    "Обучим три модели-классификатора - модель решающего дерева, модель случайного леса, модель логистической регрессии - зафиксируем метрики F1 и AUC-ROC и сохраним модели. Каждую модель проверяем на вменяемость, сравнивая метрики с dummy-моделью."
   ]
  },
  {
   "cell_type": "code",
   "execution_count": 22,
   "metadata": {},
   "outputs": [
    {
     "name": "stderr",
     "output_type": "stream",
     "text": [
      "100%|██████████| 99/99 [00:02<00:00, 36.21it/s]\n"
     ]
    },
    {
     "name": "stdout",
     "output_type": "stream",
     "text": [
      "Метрика F1 для наилучшей модели решающего дерева: 0.5583596214511041\n",
      "Значение гиперпараметра максимальной глубины дерева max_depth: 7\n"
     ]
    },
    {
     "data": {
      "image/png": "[encoded data removed]",
      "text/plain": [
       "<Figure size 432x288 with 1 Axes>"
      ]
     },
     "metadata": {
      "needs_background": "light"
     },
     "output_type": "display_data"
    },
    {
     "name": "stdout",
     "output_type": "stream",
     "text": [
      "Значение AUC-ROC: 0.8231010349393358\n",
      "Метрика AUC-ROC больше метрики F1 на 0.26474141348823177\n",
      "None\n"
     ]
    }
   ],
   "source": [
    "not_best_model_1 = None\n",
    "best_result = 0\n",
    "for depth in tqdm(range(1, 30)):\n",
    "    model = DecisionTreeClassifier(random_state=12345, max_depth=depth)\n",
    "    model.fit(features_train, target_train)\n",
    "    predictions = model.predict(features_valid)\n",
    "    result = f1_score(target_valid, predictions)\n",
    "    if result > best_result:\n",
    "        not_best_model_1 = model\n",
    "        best_result = result\n",
    "        best_max_depth = depth\n",
    "print ('Метрика F1 для наилучшей модели решающего дерева:', best_result)\n",
    "print ('Значение гиперпараметра максимальной глубины дерева max_depth:', best_max_depth)\n",
    "print(roc_f1(not_best_model_1, features_valid, target_valid, best_result))"
   ]
  },
  {
   "cell_type": "code",
   "execution_count": 23,
   "metadata": {},
   "outputs": [
    {
     "data": {
      "text/plain": [
       "['model_1a.joblib']"
      ]
     },
     "execution_count": 23,
     "metadata": {},
     "output_type": "execute_result"
    }
   ],
   "source": [
    "dump(not_best_model_1, 'model_1a.joblib')"
   ]
  },
  {
   "cell_type": "code",
   "execution_count": 24,
   "metadata": {},
   "outputs": [
    {
     "name": "stderr",
     "output_type": "stream",
     "text": [
      "100%|██████████| 49/49 [03:08<00:00,  3.84s/it]"
     ]
    },
    {
     "name": "stdout",
     "output_type": "stream",
     "text": [
      "Метрика F1 для наилучшей модели случайного леса: 0.5788667687595712\n",
      "Значение гиперпараметра количества деревьев в лесу: 17\n",
      "Значение гиперпараметра максимальной глубины дерева: 23\n"
     ]
    },
    {
     "name": "stderr",
     "output_type": "stream",
     "text": [
      "\n"
     ]
    },
    {
     "data": {
      "image/png": "[encoded data removed]",
      "text/plain": [
       "<Figure size 432x288 with 1 Axes>"
      ]
     },
     "metadata": {
      "needs_background": "light"
     },
     "output_type": "display_data"
    },
    {
     "name": "stdout",
     "output_type": "stream",
     "text": [
      "Значение AUC-ROC: 0.8237598928024745\n",
      "Метрика AUC-ROC больше метрики F1 на 0.2448931240429033\n",
      "None\n"
     ]
    }
   ],
   "source": [
    "not_best_model_2 = None\n",
    "best_result = 0\n",
    "for est in tqdm(range(1, 30)):\n",
    "    for depth in (range (1,30)):\n",
    "        model = RandomForestClassifier(random_state=12345, n_estimators=est, max_depth=depth)\n",
    "        model.fit(features_train, target_train)\n",
    "        predictions = model.predict(features_valid)\n",
    "        result = f1_score(target_valid, predictions)\n",
    "        if result > best_result:\n",
    "            not_best_model_2 = model\n",
    "            best_result = result\n",
    "            best_n_estimators = est\n",
    "            best_max_depth = depth\n",
    "print ('Метрика F1 для наилучшей модели случайного леса:', best_result)\n",
    "print ('Значение гиперпараметра количества деревьев в лесу:', best_n_estimators)\n",
    "print ('Значение гиперпараметра максимальной глубины дерева:', best_max_depth)\n",
    "print(roc_f1(not_best_model_2, features_valid, target_valid, best_result))"
   ]
  },
  {
   "cell_type": "code",
   "execution_count": 25,
   "metadata": {},
   "outputs": [
    {
     "data": {
      "text/plain": [
       "['model_2a.joblib']"
      ]
     },
     "execution_count": 25,
     "metadata": {},
     "output_type": "execute_result"
    }
   ],
   "source": [
    "dump(not_best_model_2, 'model_2a.joblib')"
   ]
  },
  {
   "cell_type": "code",
   "execution_count": 26,
   "metadata": {},
   "outputs": [
    {
     "name": "stderr",
     "output_type": "stream",
     "text": [
      "100%|██████████| 900/900 [02:43<00:00,  5.51it/s]\n"
     ]
    },
    {
     "name": "stdout",
     "output_type": "stream",
     "text": [
      "Метрика F1 для наилучшей модели логистической регрессии: 0.10290827740492169\n",
      "Значение гиперпараметра максимального количества итераций max_iter: 100\n"
     ]
    },
    {
     "data": {
      "image/png": "[encoded data removed]",
      "text/plain": [
       "<Figure size 432x288 with 1 Axes>"
      ]
     },
     "metadata": {
      "needs_background": "light"
     },
     "output_type": "display_data"
    },
    {
     "name": "stdout",
     "output_type": "stream",
     "text": [
      "Значение AUC-ROC: 0.6813607600469863\n",
      "Метрика AUC-ROC больше метрики F1 на 0.5784524826420646\n",
      "None\n"
     ]
    }
   ],
   "source": [
    "not_best_model_3 = None\n",
    "best_result = 0\n",
    "for i in tqdm(range(100,1000)):\n",
    "    model = LogisticRegression(random_state=12345, solver='liblinear', max_iter=i)\n",
    "    model.fit(features_train, target_train)\n",
    "    predictions = model.predict(features_valid)\n",
    "    result = f1_score(target_valid, predictions)\n",
    "    if result > best_result:\n",
    "        not_best_model_3 = model\n",
    "        best_result = result\n",
    "        best_max_iter = i\n",
    "    \n",
    "print ('Метрика F1 для наилучшей модели логистической регрессии:', best_result)\n",
    "print ('Значение гиперпараметра максимального количества итераций max_iter:', best_max_iter)\n",
    "print(roc_f1(not_best_model_3, features_valid, target_valid, best_result))"
   ]
  },
  {
   "cell_type": "markdown",
   "metadata": {},
   "source": [
    "Модель логистической регрессии демонстрирует метрику F1 ниже dummy-модели."
   ]
  },
  {
   "cell_type": "code",
   "execution_count": 27,
   "metadata": {},
   "outputs": [
    {
     "data": {
      "text/plain": [
       "['model_3a.joblib']"
      ]
     },
     "execution_count": 27,
     "metadata": {},
     "output_type": "execute_result"
    }
   ],
   "source": [
    "dump(not_best_model_3, 'model_3a.joblib')"
   ]
  },
  {
   "cell_type": "markdown",
   "metadata": {},
   "source": [
    "Подведём промежуточные итоги.\n",
    "\n",
    "При условии сохранения дисбаланса объектов по целевому признаку модель, демонстрирующая наивысшие метрики F1 и AUC-ROC - модель случайного леса со значениями гиперпараметров максимальной глубины дерева 23 и количества деревьев 17 с метриками F1 0.5788667687595712 и AUC-ROC 0.8237598928024745.\n",
    "\n",
    "Метрика F1 для данной модели, однако, не превышает установленный заданием минимальный порог в 0.59. Для повышения метрик улучшим модели, обучив их на сбалансированных признаков."
   ]
  },
  {
   "cell_type": "markdown",
   "metadata": {},
   "source": [
    "## Борьба с дисбалансом"
   ]
  },
  {
   "cell_type": "markdown",
   "metadata": {},
   "source": [
    "Для компенсации дисбаланса последовательно применим два метода: масштабирование признаков и upscaling."
   ]
  },
  {
   "cell_type": "markdown",
   "metadata": {},
   "source": [
    "Создаеём копию датафрейма, обозначаем признаки и целевой признак."
   ]
  },
  {
   "cell_type": "code",
   "execution_count": 49,
   "metadata": {},
   "outputs": [],
   "source": [
    "df_2 = data.copy()"
   ]
  },
  {
   "cell_type": "code",
   "execution_count": 50,
   "metadata": {},
   "outputs": [],
   "source": [
    "features_2 = df_2.drop(['Exited'], axis=1)\n",
    "target_2 = df_2['Exited']"
   ]
  },
  {
   "cell_type": "markdown",
   "metadata": {},
   "source": [
    "Создаём обучающую и валидационную выборки с учётом соотношения классов."
   ]
  },
  {
   "cell_type": "code",
   "execution_count": 51,
   "metadata": {},
   "outputs": [],
   "source": [
    "features_2_train, features_2_valid, target_2_train, target_2_valid = \\\n",
    "train_test_split(\n",
    "    features_2, target_2,\n",
    "    test_size=0.25, stratify=target_2, random_state=12345\n",
    ")"
   ]
  },
  {
   "cell_type": "markdown",
   "metadata": {},
   "source": [
    "Масштабируем количественные признаки."
   ]
  },
  {
   "cell_type": "code",
   "execution_count": 52,
   "metadata": {},
   "outputs": [
    {
     "name": "stderr",
     "output_type": "stream",
     "text": [
      "/tmp/ipykernel_48/3392945019.py:6: SettingWithCopyWarning: \n",
      "A value is trying to be set on a copy of a slice from a DataFrame.\n",
      "Try using .loc[row_indexer,col_indexer] = value instead\n",
      "\n",
      "See the caveats in the documentation: https://pandas.pydata.org/pandas-docs/stable/user_guide/indexing.html#returning-a-view-versus-a-copy\n",
      "  features_2_train[numeric] = scaler.transform(features_2_train[numeric])\n",
      "/opt/conda/lib/python3.9/site-packages/pandas/core/indexing.py:1637: SettingWithCopyWarning: \n",
      "A value is trying to be set on a copy of a slice from a DataFrame\n",
      "\n",
      "See the caveats in the documentation: https://pandas.pydata.org/pandas-docs/stable/user_guide/indexing.html#returning-a-view-versus-a-copy\n",
      "  self._setitem_single_block(indexer, value, name)\n",
      "/opt/conda/lib/python3.9/site-packages/pandas/core/indexing.py:692: SettingWithCopyWarning: \n",
      "A value is trying to be set on a copy of a slice from a DataFrame\n",
      "\n",
      "See the caveats in the documentation: https://pandas.pydata.org/pandas-docs/stable/user_guide/indexing.html#returning-a-view-versus-a-copy\n",
      "  iloc._setitem_with_indexer(indexer, value, self.name)\n",
      "/tmp/ipykernel_48/3392945019.py:7: SettingWithCopyWarning: \n",
      "A value is trying to be set on a copy of a slice from a DataFrame.\n",
      "Try using .loc[row_indexer,col_indexer] = value instead\n",
      "\n",
      "See the caveats in the documentation: https://pandas.pydata.org/pandas-docs/stable/user_guide/indexing.html#returning-a-view-versus-a-copy\n",
      "  features_2_valid[numeric] = scaler.transform(features_2_valid[numeric])\n",
      "/opt/conda/lib/python3.9/site-packages/pandas/core/indexing.py:1637: SettingWithCopyWarning: \n",
      "A value is trying to be set on a copy of a slice from a DataFrame\n",
      "\n",
      "See the caveats in the documentation: https://pandas.pydata.org/pandas-docs/stable/user_guide/indexing.html#returning-a-view-versus-a-copy\n",
      "  self._setitem_single_block(indexer, value, name)\n",
      "/opt/conda/lib/python3.9/site-packages/pandas/core/indexing.py:692: SettingWithCopyWarning: \n",
      "A value is trying to be set on a copy of a slice from a DataFrame\n",
      "\n",
      "See the caveats in the documentation: https://pandas.pydata.org/pandas-docs/stable/user_guide/indexing.html#returning-a-view-versus-a-copy\n",
      "  iloc._setitem_with_indexer(indexer, value, self.name)\n"
     ]
    }
   ],
   "source": [
    "numeric = ['CreditScore', 'Age', 'Tenure', 'Balance',\n",
    "           'NumOfProducts', 'EstimatedSalary']\n",
    "\n",
    "scaler = StandardScaler()\n",
    "scaler.fit(features_2_train[numeric])\n",
    "features_2_train[numeric] = scaler.transform(features_2_train[numeric])\n",
    "features_2_valid[numeric] = scaler.transform(features_2_valid[numeric])"
   ]
  },
  {
   "cell_type": "markdown",
   "metadata": {},
   "source": [
    "Теперь выравниваем баланс классов в выборках с помощью метода upscaling."
   ]
  },
  {
   "cell_type": "code",
   "execution_count": 53,
   "metadata": {},
   "outputs": [],
   "source": [
    "def upsample(features, target, repeat):\n",
    "    features_zeros = features[target == 0]\n",
    "    features_ones = features[target == 1]\n",
    "    target_zeros = target[target == 0]\n",
    "    target_ones = target[target == 1]\n",
    "    \n",
    "    features_upsampled = pd.concat([features_zeros] + \\\n",
    "                                   [features_ones] * repeat)\n",
    "    target_upsampled = pd.concat([target_zeros] + [target_ones] * repeat)\n",
    "    \n",
    "    features_upsampled, target_upsampled = shuffle(\n",
    "        features_upsampled, target_upsampled, random_state=12345\n",
    "    )\n",
    "    \n",
    "    return features_upsampled, target_upsampled"
   ]
  },
  {
   "cell_type": "code",
   "execution_count": 54,
   "metadata": {},
   "outputs": [],
   "source": [
    "features_upsampled, target_upsampled = upsample(\n",
    "    features_2, target_2, 4\n",
    ")"
   ]
  },
  {
   "cell_type": "code",
   "execution_count": 55,
   "metadata": {},
   "outputs": [
    {
     "name": "stdout",
     "output_type": "stream",
     "text": [
      "1.0    0.505741\n",
      "0.0    0.494259\n",
      "Name: Exited, dtype: float64\n"
     ]
    }
   ],
   "source": [
    "print(target_upsampled.value_counts(normalize=True))"
   ]
  },
  {
   "cell_type": "markdown",
   "metadata": {},
   "source": [
    "Обновим обучающую и валидационную тестовую выборки."
   ]
  },
  {
   "cell_type": "code",
   "execution_count": 56,
   "metadata": {},
   "outputs": [],
   "source": [
    "features_upsampled_train, features_upsampled_valid, target_upsampled_train,\\\n",
    "target_upsampled_valid = train_test_split(\n",
    "    features_upsampled, target_upsampled,\n",
    "    test_size=0.25, stratify=target_upsampled, random_state=12345\n",
    ")"
   ]
  },
  {
   "cell_type": "markdown",
   "metadata": {},
   "source": [
    "В результате применения методов масштабирования и upscaling значения признаков сбалансированы."
   ]
  },
  {
   "cell_type": "markdown",
   "metadata": {},
   "source": [
    "Обновим dummy-модель на новых выборках."
   ]
  },
  {
   "cell_type": "code",
   "execution_count": 57,
   "metadata": {},
   "outputs": [
    {
     "name": "stdout",
     "output_type": "stream",
     "text": [
      "Метрика F1 для dummy-модели: 0.6717230008244023\n"
     ]
    },
    {
     "data": {
      "image/png": "[encoded data removed]",
      "text/plain": [
       "<Figure size 432x288 with 1 Axes>"
      ]
     },
     "metadata": {
      "needs_background": "light"
     },
     "output_type": "display_data"
    },
    {
     "name": "stdout",
     "output_type": "stream",
     "text": [
      "Значение AUC-ROC: 0.5\n",
      "Метрика AUC-ROC меньше метрики F1 на 0.17172300082440228\n",
      "None\n"
     ]
    }
   ],
   "source": [
    "dummy_clf = DummyClassifier(strategy='constant', constant=1)\n",
    "dummy_clf.fit(features_upsampled_train, target_upsampled_train)\n",
    "predictions = dummy_clf.predict(features_upsampled_valid)\n",
    "result = f1_score(target_upsampled_valid, predictions)\n",
    "print('Метрика F1 для dummy-модели:', result)\n",
    "print(roc_f1(dummy_clf, features_upsampled_valid, target_upsampled_valid, result))"
   ]
  },
  {
   "cell_type": "markdown",
   "metadata": {},
   "source": [
    "Обучим модели-классификаторы на обновлённых выборках. Зафиксируем метрики F1 и AUC-ROC и сохраним модели. Каждую модель проверяем на вменяемость, сравнивая метрики с dummy-моделью."
   ]
  },
  {
   "cell_type": "code",
   "execution_count": 58,
   "metadata": {},
   "outputs": [
    {
     "name": "stderr",
     "output_type": "stream",
     "text": [
      "100%|██████████| 99/99 [00:05<00:00, 19.16it/s]\n"
     ]
    },
    {
     "name": "stdout",
     "output_type": "stream",
     "text": [
      "Метрика F1 для наилучшей модели решающего дерева: 0.9273844753016163\n",
      "Значение гиперпараметра максимальной глубины дерева max_depth: 25\n"
     ]
    },
    {
     "data": {
      "image/png": "[encoded data removed]",
      "text/plain": [
       "<Figure size 432x288 with 1 Axes>"
      ]
     },
     "metadata": {
      "needs_background": "light"
     },
     "output_type": "display_data"
    },
    {
     "name": "stdout",
     "output_type": "stream",
     "text": [
      "Значение AUC-ROC: 0.9201557968146793\n",
      "Метрика AUC-ROC меньше метрики F1 на 0.007228678486936979\n",
      "None\n"
     ]
    }
   ],
   "source": [
    "best_model_1 = None\n",
    "best_result = 0\n",
    "for depth in tqdm(range(1, 30)):\n",
    "    model = DecisionTreeClassifier(random_state=12345, max_depth=depth)\n",
    "    model.fit(features_upsampled_train, target_upsampled_train)\n",
    "    predictions = model.predict(features_upsampled_valid)\n",
    "    result = f1_score(target_upsampled_valid, predictions)\n",
    "    if result > best_result:\n",
    "        best_model_1 = model\n",
    "        best_result = result\n",
    "        best_max_depth = depth\n",
    "print ('Метрика F1 для наилучшей модели решающего дерева:', best_result)\n",
    "print ('Значение гиперпараметра максимальной глубины дерева max_depth:', best_max_depth)\n",
    "print(roc_f1(best_model_1, features_upsampled_valid, target_upsampled_valid, best_result))"
   ]
  },
  {
   "cell_type": "code",
   "execution_count": 59,
   "metadata": {},
   "outputs": [
    {
     "data": {
      "text/plain": [
       "['model_1.joblib']"
      ]
     },
     "execution_count": 59,
     "metadata": {},
     "output_type": "execute_result"
    }
   ],
   "source": [
    "dump(best_model_1, 'model_1.joblib')"
   ]
  },
  {
   "cell_type": "code",
   "execution_count": 60,
   "metadata": {},
   "outputs": [
    {
     "name": "stderr",
     "output_type": "stream",
     "text": [
      "100%|██████████| 59/59 [14:01<00:00, 14.26s/it]"
     ]
    },
    {
     "name": "stdout",
     "output_type": "stream",
     "text": [
      "Метрика F1 для наилучшей модели случайного леса: 0.9552168815943728\n",
      "Значение гиперпараметра количества деревьев в лесу: 44\n",
      "Значение гиперпараметра максимальной глубины дерева: 24\n"
     ]
    },
    {
     "name": "stderr",
     "output_type": "stream",
     "text": [
      "\n"
     ]
    },
    {
     "data": {
      "image/png": "[encoded data removed]",
      "text/plain": [
       "<Figure size 432x288 with 1 Axes>"
      ]
     },
     "metadata": {
      "needs_background": "light"
     },
     "output_type": "display_data"
    },
    {
     "name": "stdout",
     "output_type": "stream",
     "text": [
      "Значение AUC-ROC: 0.9947021044873754\n",
      "Метрика AUC-ROC больше метрики F1 на 0.0394852228930026\n",
      "None\n"
     ]
    }
   ],
   "source": [
    "best_model_2 = None\n",
    "best_result = 0\n",
    "for est in tqdm(range(1, 50)):\n",
    "    for depth in (range (1,50)):\n",
    "        model = RandomForestClassifier(\n",
    "            random_state=12345, n_estimators=est, max_depth=depth\n",
    "        )\n",
    "        model.fit(features_upsampled_train, target_upsampled_train)\n",
    "        predictions = model.predict(features_upsampled_valid)\n",
    "        result = f1_score(target_upsampled_valid, predictions)\n",
    "        if result > best_result:\n",
    "            best_model_2 = model\n",
    "            best_result = result\n",
    "            best_n_estimators = est\n",
    "            best_max_depth = depth\n",
    "print ('Метрика F1 для наилучшей модели случайного леса:', best_result)\n",
    "print ('Значение гиперпараметра количества деревьев в лесу:', best_n_estimators)\n",
    "print ('Значение гиперпараметра максимальной глубины дерева:', best_max_depth)\n",
    "print(roc_f1(best_model_2, features_upsampled_valid, target_upsampled_valid, best_result))"
   ]
  },
  {
   "cell_type": "code",
   "execution_count": 61,
   "metadata": {},
   "outputs": [
    {
     "data": {
      "text/plain": [
       "['model_2.joblib']"
      ]
     },
     "execution_count": 61,
     "metadata": {},
     "output_type": "execute_result"
    }
   ],
   "source": [
    "dump(best_model_2, 'model_2.joblib')"
   ]
  },
  {
   "cell_type": "code",
   "execution_count": 62,
   "metadata": {},
   "outputs": [
    {
     "name": "stderr",
     "output_type": "stream",
     "text": [
      "100%|██████████| 900/900 [02:59<00:00,  5.00it/s]\n"
     ]
    },
    {
     "name": "stdout",
     "output_type": "stream",
     "text": [
      "Метрика F1 для наилучшей модели логистической регрессии: 0.6730493058879846\n",
      "Значение гиперпараметра максимального количества итераций max_iter: 100\n"
     ]
    },
    {
     "data": {
      "image/png": "[encoded data removed]",
      "text/plain": [
       "<Figure size 432x288 with 1 Axes>"
      ]
     },
     "metadata": {
      "needs_background": "light"
     },
     "output_type": "display_data"
    },
    {
     "name": "stdout",
     "output_type": "stream",
     "text": [
      "Значение AUC-ROC: 0.7104197657253418\n",
      "Метрика AUC-ROC больше метрики F1 на 0.037370459837357206\n",
      "None\n"
     ]
    }
   ],
   "source": [
    "best_model_3 = None\n",
    "best_result = 0\n",
    "for i in tqdm(range(100,1000)):\n",
    "    model = LogisticRegression(\n",
    "        random_state=12345, solver='liblinear', max_iter=i\n",
    "    )\n",
    "    model.fit(features_upsampled_train, target_upsampled_train)\n",
    "    predictions = model.predict(features_upsampled_valid)\n",
    "    result = f1_score(target_upsampled_valid, predictions)\n",
    "    if result > best_result:\n",
    "        best_model_3 = model\n",
    "        best_result = result\n",
    "        best_max_iter = i    \n",
    "print ('Метрика F1 для наилучшей модели логистической регрессии:', best_result)\n",
    "print ('Значение гиперпараметра максимального количества итераций max_iter:',\\\n",
    "       best_max_iter)\n",
    "print(roc_f1(best_model_3, features_upsampled_valid, target_upsampled_valid, best_result))"
   ]
  },
  {
   "cell_type": "code",
   "execution_count": 63,
   "metadata": {},
   "outputs": [
    {
     "data": {
      "text/plain": [
       "['model_3.joblib']"
      ]
     },
     "execution_count": 63,
     "metadata": {},
     "output_type": "execute_result"
    }
   ],
   "source": [
    "dump(best_model_3, 'model_3.joblib')"
   ]
  },
  {
   "cell_type": "markdown",
   "metadata": {},
   "source": [
    "Подведём промежуточные итоги.\n",
    "\n",
    "После корректировки дисбаланса объектов по целевому признаку методами upscaling и масштабирования метрики моделей повысились - это наглядно демонстрируют увеличившиеся углы линий графиков ROC.\n",
    "\n",
    "Модель, демонстрирующая наивысшие метрики F1 и AUC-ROC - случайный лес со значениями гиперпараметров максимальной глубины дерева 24 и количества деревьев 44 с метриками F1 0.9552168815943728 и AUC-ROC 0.9947021044873754.\n",
    "\n",
    "Метрика F1 для данной модели превышает установленный заданием минимальный порог в 0.59."
   ]
  },
  {
   "cell_type": "markdown",
   "metadata": {},
   "source": [
    "## Тестирование модели"
   ]
  },
  {
   "cell_type": "markdown",
   "metadata": {},
   "source": [
    "Обновим dummy-модель на тестовой выборке."
   ]
  },
  {
   "cell_type": "code",
   "execution_count": 64,
   "metadata": {},
   "outputs": [
    {
     "name": "stdout",
     "output_type": "stream",
     "text": [
      "Метрика F1 для dummy-модели: 0.3381803074366431\n"
     ]
    },
    {
     "data": {
      "image/png": "[encoded data removed]",
      "text/plain": [
       "<Figure size 432x288 with 1 Axes>"
      ]
     },
     "metadata": {
      "needs_background": "light"
     },
     "output_type": "display_data"
    },
    {
     "name": "stdout",
     "output_type": "stream",
     "text": [
      "Значение AUC-ROC: 0.5\n",
      "Метрика AUC-ROC больше метрики F1 на 0.16181969256335688\n",
      "None\n"
     ]
    }
   ],
   "source": [
    "dummy_clf = DummyClassifier(strategy='constant', constant=1)\n",
    "dummy_clf.fit(features_test, target_test)\n",
    "predictions = dummy_clf.predict(features_test)\n",
    "result = f1_score(target_test, predictions)\n",
    "print('Метрика F1 для dummy-модели:', result)\n",
    "print(roc_f1(dummy_clf, features_test, target_test, result))"
   ]
  },
  {
   "cell_type": "markdown",
   "metadata": {},
   "source": [
    "Протестируем модель случайного леса на оптимальных гиперпараметрах на тестовой выборук и зафиксируем метрики F1 и AUC-ROC."
   ]
  },
  {
   "cell_type": "code",
   "execution_count": 65,
   "metadata": {},
   "outputs": [],
   "source": [
    "model_2 = load('model_2.joblib')"
   ]
  },
  {
   "cell_type": "code",
   "execution_count": 66,
   "metadata": {},
   "outputs": [
    {
     "name": "stdout",
     "output_type": "stream",
     "text": [
      "Метрика F1 для наилучшей модели случайного леса: 0.9454123112659698\n"
     ]
    },
    {
     "data": {
      "image/png": "[encoded data removed]",
      "text/plain": [
       "<Figure size 432x288 with 1 Axes>"
      ]
     },
     "metadata": {
      "needs_background": "light"
     },
     "output_type": "display_data"
    },
    {
     "name": "stdout",
     "output_type": "stream",
     "text": [
      "Значение AUC-ROC: 0.999193338176389\n",
      "Метрика AUC-ROC больше метрики F1 на 0.053781026910419194\n",
      "None\n"
     ]
    }
   ],
   "source": [
    "predictions = model_2.predict(features_test)\n",
    "result = f1_score(target_test, predictions)\n",
    "print ('Метрика F1 для наилучшей модели случайного леса:', result)\n",
    "print(roc_f1(model_2, features_test, target_test, result))"
   ]
  },
  {
   "cell_type": "markdown",
   "metadata": {},
   "source": [
    "По результатам тестирования модель случайного леса на гиперпараметрах максимальной глубины 24 и количества деревьев 44 продемонстрировала метрики F1 0.9454123112659698 и AUC-ROC 0.999193338176389. Метрика F1 для данной модели превышает установленный заданием минимальный порог в 0.59. Вменяемость модели проверена."
   ]
  },
  {
   "cell_type": "markdown",
   "metadata": {},
   "source": [
    "## Итоги работы"
   ]
  },
  {
   "cell_type": "markdown",
   "metadata": {},
   "source": [
    "Заданный датафрейм состоит из 14 столбцов и 10000 строк. Каждая строка обозначает уникального клиента банка. Столбцы обозначают: порядковый номер объекта, уникальный номер клиента, фамилию, кредитный рейтинг, страну, пол, возраст, срок обслуживания в банке, баланс на счёте, количество используемых банковских продуктов, наличие кредитной карты (кодировано через 0 и 1), активность использования банковских услуг (кодировано через 0 и 1), ориентировочная зарплата, а также данные, отражающие факт прекращения пользования банковскими услугами (кодировано через 0 и 1).\n",
    "\n",
    "Качественные данные: порядковый номер, уникальный номер, фамилия, страна, пол, наличие кредитной карты, активность использования банковских услуг, данные, отражающие факт прекращения пользования банковскими услугами. В столбцах с кодированными величинами необычных значений не обнаружено.\n",
    "\n",
    "Количественные данные: кредитный рейтинг, возраст, срок обслуживания в банке, баланс на счёте, количество используемых банковских продуктов, ориентировочная зарплата. Неправдоподобных выбросов в количественных данных не обнаружено. Строчные данные преобразованы в числовые с применением dummy-кодирования во избежание dummy-ловушки.\n",
    "\n",
    "В каждом столбце, кроме срока обслуживания - по 10000 значений. В столбце срока обслуживания обнаружено 909 пропусков. Пропуски заполнены медианным значением.\n",
    "\n",
    "Значительной корреляции между признаками не обнаружено, мультиколлинеарность исключена.\n",
    "\n",
    "Задан целевой признак - информация о прекращении пользования услугами банка. Целевой признак - качественный, соответственно, мы будем обучать модели-классификаторы. Почти в 80 процентах объектов значение целевого признака равно 0 - это серьёзный дисбаланс.\n",
    "\n",
    "При условии сохранения дисбаланса объектов по целевому признаку модель, демонстрирующая наивысшие метрики F1 и AUC-ROC - модель случайного леса со значениями гиперпараметров максимальной глубины дерева 23 и количества деревьев 17 с метриками F1 0.5788667687595712 и AUC-ROC 0.8237598928024745. После корректировки дисбаланса объектов по целевому признаку методами upscaling и масштабирования метрики моделей повысились - это наглядно демонстрируют увеличившиеся углы линий графиков ROC. Модель, демонстрирующая наивысшие метрики F1 и AUC-ROC - также случайный лес со значениями гиперпараметров максимальной глубины дерева 24 и количества деревьев 44 с метриками F1 0.9552168815943728 и AUC-ROC 0.9947021044873754.\n",
    "\n",
    "По результатам тестирования модель случайного леса на гиперпараметрах максимальной глубины 24 и количества деревьев 44 продемонстрировала метрики F1 0.9454123112659698 и AUC-ROC 0.999193338176389. Метрика F1 для данной модели превышает установленный заданием минимальный порог в 0.59. Вменяемость модели проверена."
   ]
  },
  {
   "cell_type": "markdown",
   "metadata": {},
   "source": [
    "## Чек-лист готовности проекта"
   ]
  },
  {
   "cell_type": "markdown",
   "metadata": {},
   "source": [
    "Поставьте 'x' в выполненных пунктах. Далее нажмите Shift+Enter."
   ]
  },
  {
   "cell_type": "markdown",
   "metadata": {},
   "source": [
    "- [x]  Jupyter Notebook открыт\n",
    "- [x]  Весь код выполняется без ошибок\n",
    "- [x]  Ячейки с кодом расположены в порядке исполнения\n",
    "- [x]  Выполнен шаг 1: данные подготовлены\n",
    "- [x]  Выполнен шаг 2: задача исследована\n",
    "    - [x]  Исследован баланс классов\n",
    "    - [x]  Изучены модели без учёта дисбаланса\n",
    "    - [x]  Написаны выводы по результатам исследования\n",
    "- [x]  Выполнен шаг 3: учтён дисбаланс\n",
    "    - [x]  Применено несколько способов борьбы с дисбалансом\n",
    "    - [x]  Написаны выводы по результатам исследования\n",
    "- [x]  Выполнен шаг 4: проведено тестирование\n",
    "- [x]  Удалось достичь *F1*-меры не менее 0.59\n",
    "- [x]  Исследована метрика *AUC-ROC*"
   ]
  }
 ],
 "metadata": {
  "ExecuteTimeLog": [
   {
    "duration": 51,
    "start_time": "2023-07-05T08:36:58.485Z"
   },
   {
    "duration": 470,
    "start_time": "2023-07-05T08:37:02.143Z"
   },
   {
    "duration": 193,
    "start_time": "2023-07-05T08:37:03.065Z"
   },
   {
    "duration": 16,
    "start_time": "2023-07-05T08:47:16.134Z"
   },
   {
    "duration": 459,
    "start_time": "2023-07-05T08:58:00.979Z"
   },
   {
    "duration": 137,
    "start_time": "2023-07-05T08:58:02.813Z"
   },
   {
    "duration": 8,
    "start_time": "2023-07-05T08:58:50.395Z"
   },
   {
    "duration": 3516,
    "start_time": "2023-07-05T09:03:36.283Z"
   },
   {
    "duration": 3362,
    "start_time": "2023-07-05T09:04:08.481Z"
   },
   {
    "duration": 9,
    "start_time": "2023-07-05T09:04:40.455Z"
   },
   {
    "duration": 5,
    "start_time": "2023-07-05T09:05:03.391Z"
   },
   {
    "duration": 67,
    "start_time": "2023-07-05T09:17:33.579Z"
   },
   {
    "duration": 4,
    "start_time": "2023-07-05T12:01:40.650Z"
   },
   {
    "duration": 4,
    "start_time": "2023-07-05T12:05:29.855Z"
   },
   {
    "duration": 851,
    "start_time": "2023-07-05T12:13:49.932Z"
   },
   {
    "duration": 1254,
    "start_time": "2023-07-05T13:16:38.603Z"
   },
   {
    "duration": 79,
    "start_time": "2023-07-05T13:16:41.108Z"
   },
   {
    "duration": 5,
    "start_time": "2023-07-05T13:16:45.757Z"
   },
   {
    "duration": 4,
    "start_time": "2023-07-05T13:16:48.023Z"
   },
   {
    "duration": 12,
    "start_time": "2023-07-05T13:16:49.722Z"
   },
   {
    "duration": 7,
    "start_time": "2023-07-05T13:16:51.031Z"
   },
   {
    "duration": 135,
    "start_time": "2023-07-05T13:16:53.150Z"
   },
   {
    "duration": 32,
    "start_time": "2023-07-05T13:17:57.380Z"
   },
   {
    "duration": 1184,
    "start_time": "2023-07-05T13:20:35.569Z"
   },
   {
    "duration": 77,
    "start_time": "2023-07-05T13:20:37.301Z"
   },
   {
    "duration": 2097,
    "start_time": "2023-07-05T13:20:43.632Z"
   },
   {
    "duration": 18,
    "start_time": "2023-07-05T13:21:14.433Z"
   },
   {
    "duration": 1282,
    "start_time": "2023-07-05T13:21:43.502Z"
   },
   {
    "duration": 84,
    "start_time": "2023-07-05T13:21:44.787Z"
   },
   {
    "duration": 980,
    "start_time": "2023-07-05T13:21:54.506Z"
   },
   {
    "duration": 17,
    "start_time": "2023-07-05T13:22:25.309Z"
   },
   {
    "duration": 1152,
    "start_time": "2023-07-05T13:22:37.089Z"
   },
   {
    "duration": 75,
    "start_time": "2023-07-05T13:22:38.243Z"
   },
   {
    "duration": 1891,
    "start_time": "2023-07-05T13:22:41.497Z"
   },
   {
    "duration": 16,
    "start_time": "2023-07-05T13:25:11.900Z"
   },
   {
    "duration": 1193,
    "start_time": "2023-07-05T13:25:24.980Z"
   },
   {
    "duration": 78,
    "start_time": "2023-07-05T13:25:27.590Z"
   },
   {
    "duration": 6,
    "start_time": "2023-07-05T13:25:41.005Z"
   },
   {
    "duration": 11,
    "start_time": "2023-07-05T13:25:42.467Z"
   },
   {
    "duration": 3,
    "start_time": "2023-07-05T13:25:45.623Z"
   },
   {
    "duration": 12,
    "start_time": "2023-07-05T13:25:48.971Z"
   },
   {
    "duration": 7,
    "start_time": "2023-07-05T13:25:50.260Z"
   },
   {
    "duration": 3785,
    "start_time": "2023-07-05T13:25:51.757Z"
   },
   {
    "duration": 3811,
    "start_time": "2023-07-05T13:27:04.130Z"
   },
   {
    "duration": 3824,
    "start_time": "2023-07-05T13:27:53.059Z"
   },
   {
    "duration": 4033,
    "start_time": "2023-07-05T13:28:29.445Z"
   },
   {
    "duration": 4062,
    "start_time": "2023-07-05T13:28:42.994Z"
   },
   {
    "duration": 4037,
    "start_time": "2023-07-05T13:30:33.265Z"
   },
   {
    "duration": 3881,
    "start_time": "2023-07-05T13:30:53.963Z"
   },
   {
    "duration": 5,
    "start_time": "2023-07-05T13:35:57.337Z"
   },
   {
    "duration": 4007,
    "start_time": "2023-07-05T13:36:19.496Z"
   },
   {
    "duration": 12032,
    "start_time": "2023-07-05T13:36:48.929Z"
   },
   {
    "duration": 4172,
    "start_time": "2023-07-05T13:38:14.469Z"
   },
   {
    "duration": 1197,
    "start_time": "2023-07-05T13:52:41.631Z"
   },
   {
    "duration": 81,
    "start_time": "2023-07-05T13:52:43.814Z"
   },
   {
    "duration": 1264,
    "start_time": "2023-07-09T12:59:41.254Z"
   },
   {
    "duration": 198,
    "start_time": "2023-07-09T12:59:42.520Z"
   },
   {
    "duration": 4,
    "start_time": "2023-07-09T12:59:42.719Z"
   },
   {
    "duration": 13,
    "start_time": "2023-07-09T12:59:42.725Z"
   },
   {
    "duration": 1942,
    "start_time": "2023-07-09T12:59:42.740Z"
   },
   {
    "duration": 0,
    "start_time": "2023-07-09T12:59:44.684Z"
   },
   {
    "duration": 0,
    "start_time": "2023-07-09T12:59:44.685Z"
   },
   {
    "duration": 0,
    "start_time": "2023-07-09T12:59:44.687Z"
   },
   {
    "duration": 0,
    "start_time": "2023-07-09T12:59:44.688Z"
   },
   {
    "duration": 10,
    "start_time": "2023-07-09T13:00:53.411Z"
   },
   {
    "duration": 956,
    "start_time": "2023-07-09T13:02:13.725Z"
   },
   {
    "duration": 13,
    "start_time": "2023-07-09T13:04:35.140Z"
   },
   {
    "duration": 1224,
    "start_time": "2023-07-09T13:05:17.729Z"
   },
   {
    "duration": 79,
    "start_time": "2023-07-09T13:05:18.955Z"
   },
   {
    "duration": 4,
    "start_time": "2023-07-09T13:05:19.036Z"
   },
   {
    "duration": 13,
    "start_time": "2023-07-09T13:05:19.042Z"
   },
   {
    "duration": 3,
    "start_time": "2023-07-09T13:05:19.058Z"
   },
   {
    "duration": 12,
    "start_time": "2023-07-09T13:05:19.062Z"
   },
   {
    "duration": 6,
    "start_time": "2023-07-09T13:05:19.076Z"
   },
   {
    "duration": 6,
    "start_time": "2023-07-09T13:05:19.084Z"
   },
   {
    "duration": 476,
    "start_time": "2023-07-09T13:05:29.769Z"
   },
   {
    "duration": 443,
    "start_time": "2023-07-09T13:07:14.327Z"
   },
   {
    "duration": 475,
    "start_time": "2023-07-09T13:07:54.800Z"
   },
   {
    "duration": 1168,
    "start_time": "2023-07-09T13:08:05.736Z"
   },
   {
    "duration": 72,
    "start_time": "2023-07-09T13:08:06.906Z"
   },
   {
    "duration": 4,
    "start_time": "2023-07-09T13:08:06.980Z"
   },
   {
    "duration": 20,
    "start_time": "2023-07-09T13:08:06.986Z"
   },
   {
    "duration": 6,
    "start_time": "2023-07-09T13:08:07.008Z"
   },
   {
    "duration": 11,
    "start_time": "2023-07-09T13:08:07.016Z"
   },
   {
    "duration": 18,
    "start_time": "2023-07-09T13:08:07.029Z"
   },
   {
    "duration": 6,
    "start_time": "2023-07-09T13:08:07.049Z"
   },
   {
    "duration": 453,
    "start_time": "2023-07-09T13:08:07.057Z"
   },
   {
    "duration": 560,
    "start_time": "2023-07-09T13:08:38.137Z"
   },
   {
    "duration": 1119,
    "start_time": "2023-07-09T13:08:50.304Z"
   },
   {
    "duration": 74,
    "start_time": "2023-07-09T13:08:51.425Z"
   },
   {
    "duration": 4,
    "start_time": "2023-07-09T13:08:51.501Z"
   },
   {
    "duration": 21,
    "start_time": "2023-07-09T13:08:51.506Z"
   },
   {
    "duration": 7,
    "start_time": "2023-07-09T13:08:51.529Z"
   },
   {
    "duration": 19,
    "start_time": "2023-07-09T13:08:51.538Z"
   },
   {
    "duration": 27,
    "start_time": "2023-07-09T13:08:51.559Z"
   },
   {
    "duration": 5,
    "start_time": "2023-07-09T13:08:51.588Z"
   },
   {
    "duration": 593,
    "start_time": "2023-07-09T13:08:51.595Z"
   },
   {
    "duration": 476,
    "start_time": "2023-07-09T13:09:12.235Z"
   },
   {
    "duration": 451,
    "start_time": "2023-07-09T13:10:00.539Z"
   },
   {
    "duration": 3502,
    "start_time": "2023-07-09T13:10:37.734Z"
   },
   {
    "duration": 3571,
    "start_time": "2023-07-09T13:10:44.000Z"
   },
   {
    "duration": 5317,
    "start_time": "2023-07-09T13:10:54.635Z"
   },
   {
    "duration": 16365,
    "start_time": "2023-07-09T13:11:07.205Z"
   },
   {
    "duration": 6,
    "start_time": "2023-07-09T13:13:32.669Z"
   },
   {
    "duration": 7,
    "start_time": "2023-07-09T13:13:47.946Z"
   },
   {
    "duration": 12,
    "start_time": "2023-07-09T13:46:37.910Z"
   },
   {
    "duration": 26,
    "start_time": "2023-07-09T13:50:56.320Z"
   },
   {
    "duration": 7,
    "start_time": "2023-07-09T13:52:34.128Z"
   },
   {
    "duration": 5,
    "start_time": "2023-07-09T14:00:58.568Z"
   },
   {
    "duration": 4,
    "start_time": "2023-07-09T14:01:30.914Z"
   },
   {
    "duration": 5,
    "start_time": "2023-07-09T14:01:37.258Z"
   },
   {
    "duration": 20,
    "start_time": "2023-07-09T14:02:27.327Z"
   },
   {
    "duration": 17,
    "start_time": "2023-07-09T14:02:47.206Z"
   },
   {
    "duration": 23,
    "start_time": "2023-07-09T14:03:08.803Z"
   },
   {
    "duration": 8,
    "start_time": "2023-07-09T14:03:44.154Z"
   },
   {
    "duration": 6,
    "start_time": "2023-07-09T14:04:21.687Z"
   },
   {
    "duration": 1218,
    "start_time": "2023-07-09T14:04:43.024Z"
   },
   {
    "duration": 87,
    "start_time": "2023-07-09T14:04:44.245Z"
   },
   {
    "duration": 4,
    "start_time": "2023-07-09T14:04:44.334Z"
   },
   {
    "duration": 25,
    "start_time": "2023-07-09T14:04:44.340Z"
   },
   {
    "duration": 7,
    "start_time": "2023-07-09T14:04:44.370Z"
   },
   {
    "duration": 15,
    "start_time": "2023-07-09T14:04:44.386Z"
   },
   {
    "duration": 6,
    "start_time": "2023-07-09T14:04:44.402Z"
   },
   {
    "duration": 7,
    "start_time": "2023-07-09T14:04:44.410Z"
   },
   {
    "duration": 480,
    "start_time": "2023-07-09T14:04:44.419Z"
   },
   {
    "duration": 17022,
    "start_time": "2023-07-09T14:04:44.902Z"
   },
   {
    "duration": 6,
    "start_time": "2023-07-09T14:05:01.926Z"
   },
   {
    "duration": 40,
    "start_time": "2023-07-09T14:05:01.934Z"
   },
   {
    "duration": 81,
    "start_time": "2023-07-09T14:05:01.978Z"
   },
   {
    "duration": 35,
    "start_time": "2023-07-09T14:05:02.062Z"
   },
   {
    "duration": 51,
    "start_time": "2023-07-09T14:05:02.099Z"
   },
   {
    "duration": 88,
    "start_time": "2023-07-09T14:05:02.153Z"
   },
   {
    "duration": 42,
    "start_time": "2023-07-09T14:05:02.243Z"
   },
   {
    "duration": 13,
    "start_time": "2023-07-09T14:05:57.251Z"
   },
   {
    "duration": 6,
    "start_time": "2023-07-09T14:06:03.494Z"
   },
   {
    "duration": 31,
    "start_time": "2023-07-09T14:13:27.048Z"
   },
   {
    "duration": 1955,
    "start_time": "2023-07-09T15:06:02.243Z"
   },
   {
    "duration": 83,
    "start_time": "2023-07-09T15:06:06.528Z"
   },
   {
    "duration": 6,
    "start_time": "2023-07-09T15:06:08.057Z"
   },
   {
    "duration": 138,
    "start_time": "2023-07-09T15:06:11.349Z"
   },
   {
    "duration": 1018,
    "start_time": "2023-07-09T15:06:22.431Z"
   },
   {
    "duration": 1489,
    "start_time": "2023-07-09T15:07:41.829Z"
   },
   {
    "duration": 71,
    "start_time": "2023-07-09T15:07:43.320Z"
   },
   {
    "duration": 4,
    "start_time": "2023-07-09T15:07:43.393Z"
   },
   {
    "duration": 858,
    "start_time": "2023-07-09T15:07:43.399Z"
   },
   {
    "duration": 10,
    "start_time": "2023-07-09T15:07:44.259Z"
   },
   {
    "duration": 19,
    "start_time": "2023-07-09T15:07:44.271Z"
   },
   {
    "duration": 25,
    "start_time": "2023-07-09T15:07:44.291Z"
   },
   {
    "duration": 6,
    "start_time": "2023-07-09T15:07:44.318Z"
   },
   {
    "duration": 16,
    "start_time": "2023-07-09T15:07:44.325Z"
   },
   {
    "duration": 434,
    "start_time": "2023-07-09T15:07:44.342Z"
   },
   {
    "duration": 15993,
    "start_time": "2023-07-09T15:07:44.778Z"
   },
   {
    "duration": 5,
    "start_time": "2023-07-09T15:08:00.773Z"
   },
   {
    "duration": 32,
    "start_time": "2023-07-09T15:08:00.779Z"
   },
   {
    "duration": 25,
    "start_time": "2023-07-09T15:08:00.813Z"
   },
   {
    "duration": 40,
    "start_time": "2023-07-09T15:08:00.840Z"
   },
   {
    "duration": 14,
    "start_time": "2023-07-09T15:08:00.882Z"
   },
   {
    "duration": 23,
    "start_time": "2023-07-09T15:08:00.898Z"
   },
   {
    "duration": 33,
    "start_time": "2023-07-09T15:08:00.923Z"
   },
   {
    "duration": 7,
    "start_time": "2023-07-09T15:08:00.958Z"
   },
   {
    "duration": 6,
    "start_time": "2023-07-09T15:23:20.834Z"
   },
   {
    "duration": 1850,
    "start_time": "2023-07-09T16:09:18.430Z"
   },
   {
    "duration": 76,
    "start_time": "2023-07-09T16:09:20.283Z"
   },
   {
    "duration": 5,
    "start_time": "2023-07-09T16:09:20.361Z"
   },
   {
    "duration": 869,
    "start_time": "2023-07-09T16:09:20.368Z"
   },
   {
    "duration": 10,
    "start_time": "2023-07-09T16:09:21.240Z"
   },
   {
    "duration": 3,
    "start_time": "2023-07-09T16:09:21.252Z"
   },
   {
    "duration": 15,
    "start_time": "2023-07-09T16:09:21.257Z"
   },
   {
    "duration": 7,
    "start_time": "2023-07-09T16:09:21.274Z"
   },
   {
    "duration": 9,
    "start_time": "2023-07-09T16:09:21.282Z"
   },
   {
    "duration": 481,
    "start_time": "2023-07-09T16:09:21.293Z"
   },
   {
    "duration": 16508,
    "start_time": "2023-07-09T16:09:21.776Z"
   },
   {
    "duration": 6,
    "start_time": "2023-07-09T16:09:38.286Z"
   },
   {
    "duration": 22,
    "start_time": "2023-07-09T16:09:38.293Z"
   },
   {
    "duration": 5,
    "start_time": "2023-07-09T16:09:38.319Z"
   },
   {
    "duration": 7,
    "start_time": "2023-07-09T16:09:38.326Z"
   },
   {
    "duration": 23,
    "start_time": "2023-07-09T16:09:38.335Z"
   },
   {
    "duration": 10,
    "start_time": "2023-07-09T16:09:38.360Z"
   },
   {
    "duration": 142,
    "start_time": "2023-07-09T16:09:38.372Z"
   },
   {
    "duration": 0,
    "start_time": "2023-07-09T16:09:38.516Z"
   },
   {
    "duration": 0,
    "start_time": "2023-07-09T16:09:38.517Z"
   },
   {
    "duration": 2394,
    "start_time": "2023-07-09T16:11:22.337Z"
   },
   {
    "duration": 81,
    "start_time": "2023-07-09T16:11:24.734Z"
   },
   {
    "duration": 5,
    "start_time": "2023-07-09T16:11:24.817Z"
   },
   {
    "duration": 917,
    "start_time": "2023-07-09T16:11:24.824Z"
   },
   {
    "duration": 11,
    "start_time": "2023-07-09T16:11:25.743Z"
   },
   {
    "duration": 4,
    "start_time": "2023-07-09T16:11:25.756Z"
   },
   {
    "duration": 17,
    "start_time": "2023-07-09T16:11:25.762Z"
   },
   {
    "duration": 7,
    "start_time": "2023-07-09T16:11:25.781Z"
   },
   {
    "duration": 8,
    "start_time": "2023-07-09T16:11:25.790Z"
   },
   {
    "duration": 492,
    "start_time": "2023-07-09T16:11:25.802Z"
   },
   {
    "duration": 16417,
    "start_time": "2023-07-09T16:11:26.296Z"
   },
   {
    "duration": 5,
    "start_time": "2023-07-09T16:11:42.715Z"
   },
   {
    "duration": 10,
    "start_time": "2023-07-09T16:11:42.722Z"
   },
   {
    "duration": 11,
    "start_time": "2023-07-09T16:11:42.733Z"
   },
   {
    "duration": 25,
    "start_time": "2023-07-09T16:11:42.746Z"
   },
   {
    "duration": 13,
    "start_time": "2023-07-09T16:11:42.773Z"
   },
   {
    "duration": 8,
    "start_time": "2023-07-09T16:11:42.788Z"
   },
   {
    "duration": 172,
    "start_time": "2023-07-09T16:11:42.798Z"
   },
   {
    "duration": 0,
    "start_time": "2023-07-09T16:11:42.972Z"
   },
   {
    "duration": 0,
    "start_time": "2023-07-09T16:11:42.973Z"
   },
   {
    "duration": 1634,
    "start_time": "2023-07-09T16:12:40.475Z"
   },
   {
    "duration": 89,
    "start_time": "2023-07-09T16:12:42.112Z"
   },
   {
    "duration": 6,
    "start_time": "2023-07-09T16:12:42.203Z"
   },
   {
    "duration": 918,
    "start_time": "2023-07-09T16:12:42.211Z"
   },
   {
    "duration": 11,
    "start_time": "2023-07-09T16:12:43.132Z"
   },
   {
    "duration": 8,
    "start_time": "2023-07-09T16:12:43.144Z"
   },
   {
    "duration": 22,
    "start_time": "2023-07-09T16:12:43.154Z"
   },
   {
    "duration": 11,
    "start_time": "2023-07-09T16:12:43.178Z"
   },
   {
    "duration": 16,
    "start_time": "2023-07-09T16:12:43.192Z"
   },
   {
    "duration": 526,
    "start_time": "2023-07-09T16:12:43.210Z"
   },
   {
    "duration": 17259,
    "start_time": "2023-07-09T16:12:43.738Z"
   },
   {
    "duration": 5,
    "start_time": "2023-07-09T16:13:00.999Z"
   },
   {
    "duration": 69,
    "start_time": "2023-07-09T16:13:01.006Z"
   },
   {
    "duration": 55,
    "start_time": "2023-07-09T16:13:01.079Z"
   },
   {
    "duration": 47,
    "start_time": "2023-07-09T16:13:01.136Z"
   },
   {
    "duration": 64,
    "start_time": "2023-07-09T16:13:01.185Z"
   },
   {
    "duration": 85,
    "start_time": "2023-07-09T16:13:01.251Z"
   },
   {
    "duration": 3276,
    "start_time": "2023-07-09T16:13:01.339Z"
   },
   {
    "duration": 142,
    "start_time": "2023-07-09T16:13:04.617Z"
   },
   {
    "duration": 0,
    "start_time": "2023-07-09T16:13:04.767Z"
   },
   {
    "duration": 1869,
    "start_time": "2023-07-09T16:14:08.040Z"
   },
   {
    "duration": 76,
    "start_time": "2023-07-09T16:14:09.911Z"
   },
   {
    "duration": 6,
    "start_time": "2023-07-09T16:14:09.989Z"
   },
   {
    "duration": 880,
    "start_time": "2023-07-09T16:14:09.997Z"
   },
   {
    "duration": 13,
    "start_time": "2023-07-09T16:14:10.881Z"
   },
   {
    "duration": 10,
    "start_time": "2023-07-09T16:14:10.896Z"
   },
   {
    "duration": 17,
    "start_time": "2023-07-09T16:14:10.908Z"
   },
   {
    "duration": 9,
    "start_time": "2023-07-09T16:14:10.927Z"
   },
   {
    "duration": 17,
    "start_time": "2023-07-09T16:14:10.938Z"
   },
   {
    "duration": 496,
    "start_time": "2023-07-09T16:14:10.957Z"
   },
   {
    "duration": 17180,
    "start_time": "2023-07-09T16:14:11.455Z"
   },
   {
    "duration": 6,
    "start_time": "2023-07-09T16:14:28.637Z"
   },
   {
    "duration": 24,
    "start_time": "2023-07-09T16:14:28.645Z"
   },
   {
    "duration": 6,
    "start_time": "2023-07-09T16:14:28.673Z"
   },
   {
    "duration": 7,
    "start_time": "2023-07-09T16:14:28.681Z"
   },
   {
    "duration": 12,
    "start_time": "2023-07-09T16:14:28.689Z"
   },
   {
    "duration": 7,
    "start_time": "2023-07-09T16:14:28.703Z"
   },
   {
    "duration": 3357,
    "start_time": "2023-07-09T16:14:28.712Z"
   },
   {
    "duration": 691,
    "start_time": "2023-07-09T16:14:32.071Z"
   },
   {
    "duration": 0,
    "start_time": "2023-07-09T16:14:32.768Z"
   },
   {
    "duration": 1640,
    "start_time": "2023-07-09T16:15:09.588Z"
   },
   {
    "duration": 81,
    "start_time": "2023-07-09T16:15:11.230Z"
   },
   {
    "duration": 5,
    "start_time": "2023-07-09T16:15:11.313Z"
   },
   {
    "duration": 982,
    "start_time": "2023-07-09T16:15:11.319Z"
   },
   {
    "duration": 10,
    "start_time": "2023-07-09T16:15:12.303Z"
   },
   {
    "duration": 12,
    "start_time": "2023-07-09T16:15:12.314Z"
   },
   {
    "duration": 19,
    "start_time": "2023-07-09T16:15:12.328Z"
   },
   {
    "duration": 6,
    "start_time": "2023-07-09T16:15:12.350Z"
   },
   {
    "duration": 7,
    "start_time": "2023-07-09T16:15:12.357Z"
   },
   {
    "duration": 460,
    "start_time": "2023-07-09T16:15:12.366Z"
   },
   {
    "duration": 16924,
    "start_time": "2023-07-09T16:15:12.829Z"
   },
   {
    "duration": 15,
    "start_time": "2023-07-09T16:15:29.755Z"
   },
   {
    "duration": 15,
    "start_time": "2023-07-09T16:15:29.772Z"
   },
   {
    "duration": 11,
    "start_time": "2023-07-09T16:15:29.790Z"
   },
   {
    "duration": 6,
    "start_time": "2023-07-09T16:15:29.802Z"
   },
   {
    "duration": 15,
    "start_time": "2023-07-09T16:15:29.809Z"
   },
   {
    "duration": 8,
    "start_time": "2023-07-09T16:15:29.826Z"
   },
   {
    "duration": 3186,
    "start_time": "2023-07-09T16:15:29.836Z"
   },
   {
    "duration": 1310861,
    "start_time": "2023-07-09T16:15:33.024Z"
   },
   {
    "duration": 151100,
    "start_time": "2023-07-09T16:37:23.887Z"
   },
   {
    "duration": 8,
    "start_time": "2023-07-09T19:50:39.891Z"
   },
   {
    "duration": 2322,
    "start_time": "2023-07-09T19:51:04.065Z"
   },
   {
    "duration": 207,
    "start_time": "2023-07-09T19:51:06.390Z"
   },
   {
    "duration": 5,
    "start_time": "2023-07-09T19:51:06.598Z"
   },
   {
    "duration": 892,
    "start_time": "2023-07-09T19:51:06.605Z"
   },
   {
    "duration": 10,
    "start_time": "2023-07-09T19:51:07.499Z"
   },
   {
    "duration": 3,
    "start_time": "2023-07-09T19:51:07.510Z"
   },
   {
    "duration": 17,
    "start_time": "2023-07-09T19:51:07.514Z"
   },
   {
    "duration": 6,
    "start_time": "2023-07-09T19:51:07.533Z"
   },
   {
    "duration": 8,
    "start_time": "2023-07-09T19:51:07.541Z"
   },
   {
    "duration": 505,
    "start_time": "2023-07-09T19:51:07.550Z"
   },
   {
    "duration": 17440,
    "start_time": "2023-07-09T19:51:08.056Z"
   },
   {
    "duration": 5,
    "start_time": "2023-07-09T19:51:25.499Z"
   },
   {
    "duration": 11,
    "start_time": "2023-07-09T19:51:25.506Z"
   },
   {
    "duration": 6,
    "start_time": "2023-07-09T19:51:25.520Z"
   },
   {
    "duration": 28,
    "start_time": "2023-07-09T19:51:25.528Z"
   },
   {
    "duration": 28,
    "start_time": "2023-07-09T19:51:25.558Z"
   },
   {
    "duration": 11,
    "start_time": "2023-07-09T19:51:25.588Z"
   },
   {
    "duration": 2370,
    "start_time": "2023-07-09T20:12:14.120Z"
   },
   {
    "duration": 221,
    "start_time": "2023-07-09T20:12:16.492Z"
   },
   {
    "duration": 4,
    "start_time": "2023-07-09T20:12:16.715Z"
   },
   {
    "duration": 888,
    "start_time": "2023-07-09T20:12:16.721Z"
   },
   {
    "duration": 13,
    "start_time": "2023-07-09T20:12:17.612Z"
   },
   {
    "duration": 8,
    "start_time": "2023-07-09T20:12:17.626Z"
   },
   {
    "duration": 52,
    "start_time": "2023-07-09T20:12:17.636Z"
   },
   {
    "duration": 9,
    "start_time": "2023-07-09T20:12:17.690Z"
   },
   {
    "duration": 8,
    "start_time": "2023-07-09T20:12:17.701Z"
   },
   {
    "duration": 526,
    "start_time": "2023-07-09T20:12:17.712Z"
   },
   {
    "duration": 16975,
    "start_time": "2023-07-09T20:12:18.239Z"
   },
   {
    "duration": 6,
    "start_time": "2023-07-09T20:12:35.215Z"
   },
   {
    "duration": 11,
    "start_time": "2023-07-09T20:12:35.222Z"
   },
   {
    "duration": 6,
    "start_time": "2023-07-09T20:12:35.235Z"
   },
   {
    "duration": 30,
    "start_time": "2023-07-09T20:12:35.243Z"
   },
   {
    "duration": 17,
    "start_time": "2023-07-09T20:12:35.275Z"
   },
   {
    "duration": 24,
    "start_time": "2023-07-09T20:12:35.294Z"
   },
   {
    "duration": 6,
    "start_time": "2023-07-09T20:18:19.608Z"
   },
   {
    "duration": 7,
    "start_time": "2023-07-09T20:30:11.810Z"
   },
   {
    "duration": 3097,
    "start_time": "2023-07-09T20:31:03.315Z"
   },
   {
    "duration": 1248292,
    "start_time": "2023-07-09T20:31:14.799Z"
   },
   {
    "duration": 163565,
    "start_time": "2023-07-09T20:55:49.606Z"
   },
   {
    "duration": 2034,
    "start_time": "2023-07-10T20:38:00.049Z"
   },
   {
    "duration": 253,
    "start_time": "2023-07-10T20:38:02.086Z"
   },
   {
    "duration": 6,
    "start_time": "2023-07-10T20:38:02.341Z"
   },
   {
    "duration": 1039,
    "start_time": "2023-07-10T20:38:02.349Z"
   },
   {
    "duration": 13,
    "start_time": "2023-07-10T20:38:03.394Z"
   },
   {
    "duration": 4,
    "start_time": "2023-07-10T20:38:03.409Z"
   },
   {
    "duration": 13,
    "start_time": "2023-07-10T20:38:03.415Z"
   },
   {
    "duration": 6,
    "start_time": "2023-07-10T20:38:03.430Z"
   },
   {
    "duration": 5,
    "start_time": "2023-07-10T20:38:03.438Z"
   },
   {
    "duration": 591,
    "start_time": "2023-07-10T20:38:03.445Z"
   },
   {
    "duration": 21073,
    "start_time": "2023-07-10T20:38:04.038Z"
   },
   {
    "duration": 7,
    "start_time": "2023-07-10T20:38:25.116Z"
   },
   {
    "duration": 16,
    "start_time": "2023-07-10T20:38:25.126Z"
   },
   {
    "duration": 26,
    "start_time": "2023-07-10T20:38:25.147Z"
   },
   {
    "duration": 15,
    "start_time": "2023-07-10T20:38:25.177Z"
   },
   {
    "duration": 34,
    "start_time": "2023-07-10T20:38:25.194Z"
   },
   {
    "duration": 7,
    "start_time": "2023-07-10T20:38:25.230Z"
   },
   {
    "duration": 3870,
    "start_time": "2023-07-10T20:38:25.239Z"
   },
   {
    "duration": 248,
    "start_time": "2023-07-10T20:38:29.111Z"
   },
   {
    "duration": 1553304,
    "start_time": "2023-07-10T20:38:29.364Z"
   },
   {
    "duration": 363,
    "start_time": "2023-07-10T21:04:22.671Z"
   },
   {
    "duration": 158970,
    "start_time": "2023-07-10T21:04:23.037Z"
   },
   {
    "duration": 398,
    "start_time": "2023-07-10T21:07:02.051Z"
   },
   {
    "duration": 7,
    "start_time": "2023-07-10T21:07:02.452Z"
   },
   {
    "duration": 59,
    "start_time": "2023-07-10T21:07:02.462Z"
   },
   {
    "duration": 9,
    "start_time": "2023-07-10T21:07:02.523Z"
   },
   {
    "duration": 72,
    "start_time": "2023-07-10T21:07:02.534Z"
   },
   {
    "duration": 22,
    "start_time": "2023-07-10T21:07:02.611Z"
   },
   {
    "duration": 17,
    "start_time": "2023-07-10T21:07:02.638Z"
   },
   {
    "duration": 6162,
    "start_time": "2023-07-10T21:07:02.660Z"
   },
   {
    "duration": 109,
    "start_time": "2023-07-10T21:07:08.824Z"
   },
   {
    "duration": 2063835,
    "start_time": "2023-07-10T21:07:08.934Z"
   },
   {
    "duration": 361,
    "start_time": "2023-07-10T21:41:32.771Z"
   },
   {
    "duration": 179850,
    "start_time": "2023-07-10T21:41:33.134Z"
   },
   {
    "duration": 175,
    "start_time": "2023-07-10T21:44:32.986Z"
   },
   {
    "duration": 1595,
    "start_time": "2023-07-13T20:37:58.170Z"
   },
   {
    "duration": 112,
    "start_time": "2023-07-13T20:37:59.767Z"
   },
   {
    "duration": 5,
    "start_time": "2023-07-13T20:37:59.881Z"
   },
   {
    "duration": 986,
    "start_time": "2023-07-13T20:37:59.887Z"
   },
   {
    "duration": 10,
    "start_time": "2023-07-13T20:38:00.875Z"
   },
   {
    "duration": 21,
    "start_time": "2023-07-13T20:38:00.887Z"
   },
   {
    "duration": 42,
    "start_time": "2023-07-13T20:38:00.910Z"
   },
   {
    "duration": 38,
    "start_time": "2023-07-13T20:38:00.954Z"
   },
   {
    "duration": 78,
    "start_time": "2023-07-13T20:38:00.993Z"
   },
   {
    "duration": 554,
    "start_time": "2023-07-13T20:38:01.072Z"
   },
   {
    "duration": 16410,
    "start_time": "2023-07-13T20:38:01.632Z"
   },
   {
    "duration": 5,
    "start_time": "2023-07-13T20:38:18.043Z"
   },
   {
    "duration": 21,
    "start_time": "2023-07-13T20:38:18.050Z"
   },
   {
    "duration": 16,
    "start_time": "2023-07-13T20:38:18.073Z"
   },
   {
    "duration": 26,
    "start_time": "2023-07-13T20:38:18.091Z"
   },
   {
    "duration": 22,
    "start_time": "2023-07-13T20:38:18.119Z"
   },
   {
    "duration": 133,
    "start_time": "2023-07-13T20:38:18.143Z"
   },
   {
    "duration": 2996,
    "start_time": "2023-07-13T20:38:18.277Z"
   },
   {
    "duration": 58,
    "start_time": "2023-07-13T20:38:21.274Z"
   },
   {
    "duration": 1134812,
    "start_time": "2023-07-13T20:38:21.334Z"
   },
   {
    "duration": 206,
    "start_time": "2023-07-13T20:57:16.148Z"
   },
   {
    "duration": 178330,
    "start_time": "2023-07-13T20:57:16.356Z"
   },
   {
    "duration": 119,
    "start_time": "2023-07-13T21:00:14.688Z"
   },
   {
    "duration": 4,
    "start_time": "2023-07-13T21:00:14.810Z"
   },
   {
    "duration": 43,
    "start_time": "2023-07-13T21:00:14.816Z"
   },
   {
    "duration": 6,
    "start_time": "2023-07-13T21:00:14.861Z"
   },
   {
    "duration": 24,
    "start_time": "2023-07-13T21:00:14.869Z"
   },
   {
    "duration": 9,
    "start_time": "2023-07-13T21:00:14.895Z"
   },
   {
    "duration": 137,
    "start_time": "2023-07-13T21:00:14.906Z"
   },
   {
    "duration": 3956,
    "start_time": "2023-07-13T21:00:15.045Z"
   },
   {
    "duration": 170,
    "start_time": "2023-07-13T21:00:19.002Z"
   },
   {
    "duration": 1709539,
    "start_time": "2023-07-13T21:00:19.174Z"
   },
   {
    "duration": 333,
    "start_time": "2023-07-13T21:28:48.714Z"
   },
   {
    "duration": 177073,
    "start_time": "2023-07-13T21:28:49.052Z"
   },
   {
    "duration": 91,
    "start_time": "2023-07-13T21:31:46.127Z"
   },
   {
    "duration": 6,
    "start_time": "2023-07-13T21:31:46.219Z"
   },
   {
    "duration": 163,
    "start_time": "2023-07-13T21:31:46.226Z"
   },
   {
    "duration": 122,
    "start_time": "2023-07-13T21:31:46.391Z"
   },
   {
    "duration": 0,
    "start_time": "2023-07-13T21:31:46.515Z"
   },
   {
    "duration": 158,
    "start_time": "2023-07-13T21:33:49.167Z"
   },
   {
    "duration": 170,
    "start_time": "2023-07-13T21:33:50.731Z"
   },
   {
    "duration": 2372,
    "start_time": "2023-07-16T06:24:31.926Z"
   },
   {
    "duration": 116,
    "start_time": "2023-07-16T06:24:35.489Z"
   },
   {
    "duration": 6,
    "start_time": "2023-07-16T06:24:39.424Z"
   },
   {
    "duration": 925,
    "start_time": "2023-07-16T06:24:40.912Z"
   },
   {
    "duration": 11,
    "start_time": "2023-07-16T06:24:46.916Z"
   },
   {
    "duration": 3,
    "start_time": "2023-07-16T06:24:47.638Z"
   },
   {
    "duration": 13,
    "start_time": "2023-07-16T06:24:48.770Z"
   },
   {
    "duration": 7,
    "start_time": "2023-07-16T06:24:50.448Z"
   },
   {
    "duration": 6,
    "start_time": "2023-07-16T06:24:51.887Z"
   },
   {
    "duration": 473,
    "start_time": "2023-07-16T06:24:53.572Z"
   },
   {
    "duration": 17103,
    "start_time": "2023-07-16T06:24:56.752Z"
   },
   {
    "duration": 7,
    "start_time": "2023-07-16T06:25:15.304Z"
   },
   {
    "duration": 9,
    "start_time": "2023-07-16T06:25:16.622Z"
   },
   {
    "duration": 6,
    "start_time": "2023-07-16T06:25:19.817Z"
   },
   {
    "duration": 6,
    "start_time": "2023-07-16T06:25:20.335Z"
   },
   {
    "duration": 11,
    "start_time": "2023-07-16T06:25:27.028Z"
   },
   {
    "duration": 101,
    "start_time": "2023-07-16T06:25:28.943Z"
   },
   {
    "duration": 76,
    "start_time": "2023-07-16T06:25:56.861Z"
   },
   {
    "duration": 7,
    "start_time": "2023-07-16T06:26:52.316Z"
   },
   {
    "duration": 137,
    "start_time": "2023-07-16T06:26:56.799Z"
   },
   {
    "duration": 6,
    "start_time": "2023-07-16T06:27:26.894Z"
   },
   {
    "duration": 154,
    "start_time": "2023-07-16T06:27:28.186Z"
   },
   {
    "duration": 5,
    "start_time": "2023-07-16T06:28:43.408Z"
   },
   {
    "duration": 145,
    "start_time": "2023-07-16T06:28:47.870Z"
   },
   {
    "duration": 1524,
    "start_time": "2023-07-16T06:29:05.211Z"
   },
   {
    "duration": 85,
    "start_time": "2023-07-16T06:29:06.737Z"
   },
   {
    "duration": 5,
    "start_time": "2023-07-16T06:29:06.824Z"
   },
   {
    "duration": 896,
    "start_time": "2023-07-16T06:29:06.831Z"
   },
   {
    "duration": 10,
    "start_time": "2023-07-16T06:29:07.729Z"
   },
   {
    "duration": 8,
    "start_time": "2023-07-16T06:29:07.741Z"
   },
   {
    "duration": 20,
    "start_time": "2023-07-16T06:29:07.751Z"
   },
   {
    "duration": 13,
    "start_time": "2023-07-16T06:29:07.773Z"
   },
   {
    "duration": 12,
    "start_time": "2023-07-16T06:29:07.787Z"
   },
   {
    "duration": 491,
    "start_time": "2023-07-16T06:29:07.801Z"
   },
   {
    "duration": 17395,
    "start_time": "2023-07-16T06:29:08.294Z"
   },
   {
    "duration": 6,
    "start_time": "2023-07-16T06:29:25.692Z"
   },
   {
    "duration": 17,
    "start_time": "2023-07-16T06:29:25.700Z"
   },
   {
    "duration": 15,
    "start_time": "2023-07-16T06:29:25.720Z"
   },
   {
    "duration": 17,
    "start_time": "2023-07-16T06:29:25.737Z"
   },
   {
    "duration": 29,
    "start_time": "2023-07-16T06:29:25.756Z"
   },
   {
    "duration": 10,
    "start_time": "2023-07-16T06:29:25.787Z"
   },
   {
    "duration": 154,
    "start_time": "2023-07-16T06:29:25.799Z"
   },
   {
    "duration": 3353,
    "start_time": "2023-07-16T06:30:30.947Z"
   },
   {
    "duration": 6,
    "start_time": "2023-07-16T06:31:37.747Z"
   },
   {
    "duration": 127,
    "start_time": "2023-07-16T06:31:42.163Z"
   },
   {
    "duration": 3300,
    "start_time": "2023-07-16T06:31:47.094Z"
   },
   {
    "duration": 76,
    "start_time": "2023-07-16T06:32:09.960Z"
   },
   {
    "duration": 1245976,
    "start_time": "2023-07-16T06:32:56.247Z"
   },
   {
    "duration": 210,
    "start_time": "2023-07-16T06:56:14.430Z"
   },
   {
    "duration": 177150,
    "start_time": "2023-07-16T06:56:15.715Z"
   },
   {
    "duration": 1544,
    "start_time": "2023-07-16T07:50:36.122Z"
   },
   {
    "duration": 79,
    "start_time": "2023-07-16T07:50:41.521Z"
   },
   {
    "duration": 179,
    "start_time": "2023-07-16T07:57:48.383Z"
   },
   {
    "duration": 11,
    "start_time": "2023-07-16T07:57:57.571Z"
   },
   {
    "duration": 60,
    "start_time": "2023-07-16T08:03:49.031Z"
   },
   {
    "duration": 119,
    "start_time": "2023-07-16T08:06:18.121Z"
   },
   {
    "duration": 407,
    "start_time": "2023-07-16T08:06:28.299Z"
   },
   {
    "duration": 908,
    "start_time": "2023-07-16T08:09:03.291Z"
   },
   {
    "duration": 683,
    "start_time": "2023-07-16T08:12:56.709Z"
   },
   {
    "duration": 18,
    "start_time": "2023-07-16T08:15:52.659Z"
   },
   {
    "duration": 157,
    "start_time": "2023-07-16T08:17:04.132Z"
   },
   {
    "duration": 147,
    "start_time": "2023-07-16T08:17:13.135Z"
   },
   {
    "duration": 845,
    "start_time": "2023-07-16T08:17:19.096Z"
   },
   {
    "duration": 10,
    "start_time": "2023-07-16T08:17:38.984Z"
   },
   {
    "duration": 12,
    "start_time": "2023-07-16T08:18:00.634Z"
   },
   {
    "duration": 15,
    "start_time": "2023-07-16T08:19:02.725Z"
   },
   {
    "duration": 7,
    "start_time": "2023-07-16T08:21:50.092Z"
   },
   {
    "duration": 915,
    "start_time": "2023-07-16T09:01:38.112Z"
   },
   {
    "duration": 11,
    "start_time": "2023-07-16T09:04:44.679Z"
   },
   {
    "duration": 3,
    "start_time": "2023-07-16T09:12:39.253Z"
   },
   {
    "duration": 13,
    "start_time": "2023-07-16T09:12:39.769Z"
   },
   {
    "duration": 7,
    "start_time": "2023-07-16T09:12:41.188Z"
   },
   {
    "duration": 6,
    "start_time": "2023-07-16T09:12:42.496Z"
   },
   {
    "duration": 489,
    "start_time": "2023-07-16T09:12:53.111Z"
   },
   {
    "duration": 16600,
    "start_time": "2023-07-16T09:13:44.592Z"
   },
   {
    "duration": 5,
    "start_time": "2023-07-16T09:14:49.111Z"
   },
   {
    "duration": 8,
    "start_time": "2023-07-16T09:14:50.670Z"
   },
   {
    "duration": 6,
    "start_time": "2023-07-16T09:17:24.876Z"
   },
   {
    "duration": 6,
    "start_time": "2023-07-16T09:17:53.274Z"
   },
   {
    "duration": 10,
    "start_time": "2023-07-16T09:30:16.183Z"
   },
   {
    "duration": 6,
    "start_time": "2023-07-16T09:31:32.286Z"
   },
   {
    "duration": 192,
    "start_time": "2023-07-16T10:55:41.550Z"
   },
   {
    "duration": 3359,
    "start_time": "2023-07-16T10:59:54.808Z"
   },
   {
    "duration": 71,
    "start_time": "2023-07-16T11:00:27.121Z"
   },
   {
    "duration": 1242935,
    "start_time": "2023-07-16T11:00:29.179Z"
   },
   {
    "duration": 6,
    "start_time": "2023-07-16T11:21:12.117Z"
   },
   {
    "duration": 52,
    "start_time": "2023-07-16T11:21:12.125Z"
   },
   {
    "duration": 194,
    "start_time": "2023-07-16T11:21:21.710Z"
   },
   {
    "duration": 179254,
    "start_time": "2023-07-16T11:21:23.834Z"
   },
   {
    "duration": 84,
    "start_time": "2023-07-16T11:26:18.333Z"
   },
   {
    "duration": 4,
    "start_time": "2023-07-16T11:30:11.810Z"
   },
   {
    "duration": 13,
    "start_time": "2023-07-16T11:30:13.001Z"
   },
   {
    "duration": 6,
    "start_time": "2023-07-16T11:30:15.922Z"
   },
   {
    "duration": 10,
    "start_time": "2023-07-16T11:31:41.390Z"
   },
   {
    "duration": 140,
    "start_time": "2023-07-16T11:31:47.432Z"
   },
   {
    "duration": 5324,
    "start_time": "2023-07-16T11:43:24.382Z"
   },
   {
    "duration": 467,
    "start_time": "2023-07-16T11:45:15.947Z"
   },
   {
    "duration": 2338901,
    "start_time": "2023-07-16T11:45:18.223Z"
   },
   {
    "duration": 665,
    "start_time": "2023-07-16T12:27:04.346Z"
   },
   {
    "duration": 180471,
    "start_time": "2023-07-16T12:27:06.311Z"
   },
   {
    "duration": 68,
    "start_time": "2023-07-16T12:30:31.823Z"
   },
   {
    "duration": 8,
    "start_time": "2023-07-16T12:31:42.199Z"
   },
   {
    "duration": 24,
    "start_time": "2023-07-16T12:31:48.511Z"
   },
   {
    "duration": 132,
    "start_time": "2023-07-16T12:32:07.498Z"
   },
   {
    "duration": 322,
    "start_time": "2023-07-16T12:33:22.038Z"
   },
   {
    "duration": 197,
    "start_time": "2023-07-16T12:33:27.122Z"
   },
   {
    "duration": 1271,
    "start_time": "2023-07-16T12:55:51.093Z"
   },
   {
    "duration": 58,
    "start_time": "2023-07-16T12:55:52.366Z"
   },
   {
    "duration": 7,
    "start_time": "2023-07-16T12:55:52.425Z"
   },
   {
    "duration": 626,
    "start_time": "2023-07-16T12:55:52.434Z"
   },
   {
    "duration": 7,
    "start_time": "2023-07-16T12:55:53.061Z"
   },
   {
    "duration": 8,
    "start_time": "2023-07-16T12:55:53.069Z"
   },
   {
    "duration": 716,
    "start_time": "2023-07-16T12:55:53.079Z"
   },
   {
    "duration": 9,
    "start_time": "2023-07-16T12:55:53.796Z"
   },
   {
    "duration": 15,
    "start_time": "2023-07-16T12:55:53.806Z"
   },
   {
    "duration": 19,
    "start_time": "2023-07-16T12:55:53.823Z"
   },
   {
    "duration": 8,
    "start_time": "2023-07-16T12:55:53.844Z"
   },
   {
    "duration": 10,
    "start_time": "2023-07-16T12:55:53.853Z"
   },
   {
    "duration": 603,
    "start_time": "2023-07-16T12:55:53.865Z"
   },
   {
    "duration": 22183,
    "start_time": "2023-07-16T12:55:54.469Z"
   },
   {
    "duration": 4,
    "start_time": "2023-07-16T12:56:16.653Z"
   },
   {
    "duration": 9,
    "start_time": "2023-07-16T12:56:16.658Z"
   },
   {
    "duration": 6,
    "start_time": "2023-07-16T12:56:16.668Z"
   },
   {
    "duration": 8,
    "start_time": "2023-07-16T12:56:16.675Z"
   },
   {
    "duration": 12,
    "start_time": "2023-07-16T12:56:16.685Z"
   },
   {
    "duration": 23,
    "start_time": "2023-07-16T12:56:16.698Z"
   },
   {
    "duration": 124,
    "start_time": "2023-07-16T12:56:16.723Z"
   },
   {
    "duration": 4604,
    "start_time": "2023-07-16T12:56:16.849Z"
   },
   {
    "duration": 169,
    "start_time": "2023-07-16T12:56:21.455Z"
   },
   {
    "duration": 1452298,
    "start_time": "2023-07-16T12:56:21.626Z"
   },
   {
    "duration": 278,
    "start_time": "2023-07-16T13:20:33.926Z"
   },
   {
    "duration": 158427,
    "start_time": "2023-07-16T13:20:34.206Z"
   },
   {
    "duration": 141,
    "start_time": "2023-07-16T13:23:12.634Z"
   },
   {
    "duration": 3,
    "start_time": "2023-07-16T13:23:12.779Z"
   },
   {
    "duration": 19,
    "start_time": "2023-07-16T13:23:12.784Z"
   },
   {
    "duration": 5,
    "start_time": "2023-07-16T13:23:12.805Z"
   },
   {
    "duration": 55,
    "start_time": "2023-07-16T13:23:12.812Z"
   },
   {
    "duration": 8,
    "start_time": "2023-07-16T13:23:12.870Z"
   },
   {
    "duration": 146,
    "start_time": "2023-07-16T13:23:12.880Z"
   },
   {
    "duration": 6264,
    "start_time": "2023-07-16T13:23:13.028Z"
   },
   {
    "duration": 184,
    "start_time": "2023-07-16T13:23:19.294Z"
   },
   {
    "duration": 283240,
    "start_time": "2023-07-16T13:23:19.480Z"
   },
   {
    "duration": 0,
    "start_time": "2023-07-16T13:28:02.721Z"
   },
   {
    "duration": 0,
    "start_time": "2023-07-16T13:28:02.723Z"
   },
   {
    "duration": 0,
    "start_time": "2023-07-16T13:28:02.724Z"
   },
   {
    "duration": 0,
    "start_time": "2023-07-16T13:28:02.725Z"
   },
   {
    "duration": 0,
    "start_time": "2023-07-16T13:28:02.727Z"
   },
   {
    "duration": 0,
    "start_time": "2023-07-16T13:28:02.728Z"
   },
   {
    "duration": 1,
    "start_time": "2023-07-16T13:28:02.728Z"
   },
   {
    "duration": 93,
    "start_time": "2023-07-16T15:17:18.132Z"
   },
   {
    "duration": 85,
    "start_time": "2023-07-16T15:18:19.792Z"
   },
   {
    "duration": 46,
    "start_time": "2023-07-16T15:19:09.855Z"
   },
   {
    "duration": 2194,
    "start_time": "2023-07-17T13:18:55.090Z"
   },
   {
    "duration": 153,
    "start_time": "2023-07-17T13:19:11.752Z"
   },
   {
    "duration": 84,
    "start_time": "2023-07-17T13:19:31.653Z"
   },
   {
    "duration": 159,
    "start_time": "2023-07-17T13:24:56.346Z"
   },
   {
    "duration": 5,
    "start_time": "2023-07-17T13:25:02.637Z"
   },
   {
    "duration": 19,
    "start_time": "2023-07-17T13:25:03.747Z"
   },
   {
    "duration": 75,
    "start_time": "2023-07-17T13:25:21.465Z"
   },
   {
    "duration": 7,
    "start_time": "2023-07-17T13:25:26.661Z"
   },
   {
    "duration": 990,
    "start_time": "2023-07-17T13:25:28.740Z"
   },
   {
    "duration": 12,
    "start_time": "2023-07-17T13:25:32.462Z"
   },
   {
    "duration": 6,
    "start_time": "2023-07-17T13:25:35.444Z"
   },
   {
    "duration": 1039,
    "start_time": "2023-07-17T13:25:38.116Z"
   },
   {
    "duration": 45,
    "start_time": "2023-07-17T13:25:45.012Z"
   },
   {
    "duration": 4,
    "start_time": "2023-07-17T13:25:50.247Z"
   },
   {
    "duration": 19,
    "start_time": "2023-07-17T13:25:52.744Z"
   },
   {
    "duration": 11,
    "start_time": "2023-07-17T13:27:15.113Z"
   },
   {
    "duration": 1737,
    "start_time": "2023-07-17T13:27:37.854Z"
   },
   {
    "duration": 75,
    "start_time": "2023-07-17T13:27:42.652Z"
   },
   {
    "duration": 8,
    "start_time": "2023-07-17T13:27:48.520Z"
   },
   {
    "duration": 790,
    "start_time": "2023-07-17T13:27:51.444Z"
   },
   {
    "duration": 9,
    "start_time": "2023-07-17T13:27:57.053Z"
   },
   {
    "duration": 5,
    "start_time": "2023-07-17T13:27:59.915Z"
   },
   {
    "duration": 848,
    "start_time": "2023-07-17T13:28:05.847Z"
   },
   {
    "duration": 39,
    "start_time": "2023-07-17T13:28:17.051Z"
   },
   {
    "duration": 5,
    "start_time": "2023-07-17T13:28:34.208Z"
   },
   {
    "duration": 17,
    "start_time": "2023-07-17T13:28:35.281Z"
   },
   {
    "duration": 11,
    "start_time": "2023-07-17T13:29:04.950Z"
   },
   {
    "duration": 128,
    "start_time": "2023-07-17T13:29:07.243Z"
   },
   {
    "duration": 14,
    "start_time": "2023-07-17T13:29:25.464Z"
   },
   {
    "duration": 12,
    "start_time": "2023-07-17T13:29:44.345Z"
   },
   {
    "duration": 12,
    "start_time": "2023-07-17T13:30:01.744Z"
   },
   {
    "duration": 13,
    "start_time": "2023-07-17T13:30:15.683Z"
   },
   {
    "duration": 12,
    "start_time": "2023-07-17T13:30:28.189Z"
   },
   {
    "duration": 11,
    "start_time": "2023-07-17T13:31:15.840Z"
   },
   {
    "duration": 7,
    "start_time": "2023-07-17T13:47:18.979Z"
   },
   {
    "duration": 41,
    "start_time": "2023-07-17T13:47:22.004Z"
   },
   {
    "duration": 9,
    "start_time": "2023-07-17T13:52:58.747Z"
   },
   {
    "duration": 1640,
    "start_time": "2023-07-17T13:55:24.347Z"
   },
   {
    "duration": 73,
    "start_time": "2023-07-17T13:55:26.312Z"
   },
   {
    "duration": 7,
    "start_time": "2023-07-17T13:55:31.617Z"
   },
   {
    "duration": 755,
    "start_time": "2023-07-17T13:55:33.369Z"
   },
   {
    "duration": 9,
    "start_time": "2023-07-17T13:55:38.017Z"
   },
   {
    "duration": 5,
    "start_time": "2023-07-17T13:55:41.514Z"
   },
   {
    "duration": 889,
    "start_time": "2023-07-17T13:55:45.034Z"
   },
   {
    "duration": 126,
    "start_time": "2023-07-17T13:55:51.267Z"
   },
   {
    "duration": 15,
    "start_time": "2023-07-17T13:57:59.552Z"
   },
   {
    "duration": 16,
    "start_time": "2023-07-17T13:59:46.544Z"
   },
   {
    "duration": 1531,
    "start_time": "2023-07-17T14:16:02.497Z"
   },
   {
    "duration": 69,
    "start_time": "2023-07-17T14:16:04.030Z"
   },
   {
    "duration": 7,
    "start_time": "2023-07-17T14:16:04.100Z"
   },
   {
    "duration": 830,
    "start_time": "2023-07-17T14:16:04.110Z"
   },
   {
    "duration": 10,
    "start_time": "2023-07-17T14:16:04.942Z"
   },
   {
    "duration": 14,
    "start_time": "2023-07-17T14:16:04.953Z"
   },
   {
    "duration": 815,
    "start_time": "2023-07-17T14:16:04.968Z"
   },
   {
    "duration": 13,
    "start_time": "2023-07-17T14:16:05.785Z"
   },
   {
    "duration": 27,
    "start_time": "2023-07-17T14:16:05.800Z"
   },
   {
    "duration": 38,
    "start_time": "2023-07-17T14:16:05.829Z"
   },
   {
    "duration": 79,
    "start_time": "2023-07-17T14:16:05.869Z"
   },
   {
    "duration": 7,
    "start_time": "2023-07-17T14:16:05.950Z"
   },
   {
    "duration": 7197,
    "start_time": "2023-07-17T14:16:05.959Z"
   },
   {
    "duration": 54716,
    "start_time": "2023-07-17T14:16:13.160Z"
   },
   {
    "duration": 5,
    "start_time": "2023-07-17T14:17:07.878Z"
   },
   {
    "duration": 19,
    "start_time": "2023-07-17T14:17:07.885Z"
   },
   {
    "duration": 21,
    "start_time": "2023-07-17T14:17:07.906Z"
   },
   {
    "duration": 25,
    "start_time": "2023-07-17T14:17:07.929Z"
   },
   {
    "duration": 13,
    "start_time": "2023-07-17T14:17:07.956Z"
   },
   {
    "duration": 20,
    "start_time": "2023-07-17T14:17:07.970Z"
   },
   {
    "duration": 160,
    "start_time": "2023-07-17T14:17:07.992Z"
   },
   {
    "duration": 3421,
    "start_time": "2023-07-17T14:17:08.154Z"
   },
   {
    "duration": 68,
    "start_time": "2023-07-17T14:17:11.577Z"
   },
   {
    "duration": 221524,
    "start_time": "2023-07-17T14:17:11.647Z"
   },
   {
    "duration": 184,
    "start_time": "2023-07-17T14:20:53.173Z"
   },
   {
    "duration": 178802,
    "start_time": "2023-07-17T14:20:53.360Z"
   },
   {
    "duration": 82,
    "start_time": "2023-07-17T14:23:52.164Z"
   },
   {
    "duration": 4,
    "start_time": "2023-07-17T14:23:52.248Z"
   },
   {
    "duration": 34,
    "start_time": "2023-07-17T14:23:52.254Z"
   },
   {
    "duration": 119,
    "start_time": "2023-07-17T14:23:52.290Z"
   },
   {
    "duration": 0,
    "start_time": "2023-07-17T14:23:52.411Z"
   },
   {
    "duration": 0,
    "start_time": "2023-07-17T14:23:52.412Z"
   },
   {
    "duration": 0,
    "start_time": "2023-07-17T14:23:52.413Z"
   },
   {
    "duration": 0,
    "start_time": "2023-07-17T14:23:52.414Z"
   },
   {
    "duration": 0,
    "start_time": "2023-07-17T14:23:52.415Z"
   },
   {
    "duration": 0,
    "start_time": "2023-07-17T14:23:52.416Z"
   },
   {
    "duration": 0,
    "start_time": "2023-07-17T14:23:52.417Z"
   },
   {
    "duration": 0,
    "start_time": "2023-07-17T14:23:52.418Z"
   },
   {
    "duration": 0,
    "start_time": "2023-07-17T14:23:52.419Z"
   },
   {
    "duration": 0,
    "start_time": "2023-07-17T14:23:52.420Z"
   },
   {
    "duration": 0,
    "start_time": "2023-07-17T14:23:52.421Z"
   },
   {
    "duration": 0,
    "start_time": "2023-07-17T14:23:52.423Z"
   },
   {
    "duration": 0,
    "start_time": "2023-07-17T14:23:52.424Z"
   },
   {
    "duration": 0,
    "start_time": "2023-07-17T14:23:52.425Z"
   },
   {
    "duration": 1747,
    "start_time": "2023-07-17T20:01:10.141Z"
   },
   {
    "duration": 113,
    "start_time": "2023-07-17T20:01:11.890Z"
   },
   {
    "duration": 6,
    "start_time": "2023-07-17T20:01:12.005Z"
   },
   {
    "duration": 688,
    "start_time": "2023-07-17T20:01:12.012Z"
   },
   {
    "duration": 7,
    "start_time": "2023-07-17T20:01:12.702Z"
   },
   {
    "duration": 21,
    "start_time": "2023-07-17T20:01:12.711Z"
   },
   {
    "duration": 805,
    "start_time": "2023-07-17T20:01:12.733Z"
   },
   {
    "duration": 15,
    "start_time": "2023-07-17T20:01:13.540Z"
   },
   {
    "duration": 7,
    "start_time": "2023-07-17T20:01:13.557Z"
   },
   {
    "duration": 16,
    "start_time": "2023-07-17T20:01:13.566Z"
   },
   {
    "duration": 19,
    "start_time": "2023-07-17T20:01:13.584Z"
   },
   {
    "duration": 8,
    "start_time": "2023-07-17T20:01:13.604Z"
   },
   {
    "duration": 5571,
    "start_time": "2023-07-17T20:01:13.614Z"
   },
   {
    "duration": 56387,
    "start_time": "2023-07-17T20:01:19.188Z"
   },
   {
    "duration": 5,
    "start_time": "2023-07-17T20:02:15.577Z"
   },
   {
    "duration": 13,
    "start_time": "2023-07-17T20:02:15.583Z"
   },
   {
    "duration": 22,
    "start_time": "2023-07-17T20:02:15.598Z"
   },
   {
    "duration": 6,
    "start_time": "2023-07-17T20:02:15.622Z"
   },
   {
    "duration": 11,
    "start_time": "2023-07-17T20:02:15.630Z"
   },
   {
    "duration": 6,
    "start_time": "2023-07-17T20:02:15.643Z"
   },
   {
    "duration": 144,
    "start_time": "2023-07-17T20:02:15.651Z"
   },
   {
    "duration": 3202,
    "start_time": "2023-07-17T20:02:15.797Z"
   },
   {
    "duration": 73,
    "start_time": "2023-07-17T20:02:19.000Z"
   },
   {
    "duration": 195528,
    "start_time": "2023-07-17T20:02:19.076Z"
   },
   {
    "duration": 186,
    "start_time": "2023-07-17T20:05:34.605Z"
   },
   {
    "duration": 1429,
    "start_time": "2023-07-17T20:07:50.583Z"
   },
   {
    "duration": 64,
    "start_time": "2023-07-17T20:07:52.014Z"
   },
   {
    "duration": 4,
    "start_time": "2023-07-17T20:07:52.080Z"
   },
   {
    "duration": 624,
    "start_time": "2023-07-17T20:07:52.086Z"
   },
   {
    "duration": 13,
    "start_time": "2023-07-17T20:07:52.711Z"
   },
   {
    "duration": 13,
    "start_time": "2023-07-17T20:07:52.725Z"
   },
   {
    "duration": 782,
    "start_time": "2023-07-17T20:07:52.739Z"
   },
   {
    "duration": 15,
    "start_time": "2023-07-17T20:07:53.523Z"
   },
   {
    "duration": 4,
    "start_time": "2023-07-17T20:07:53.540Z"
   },
   {
    "duration": 21,
    "start_time": "2023-07-17T20:07:53.545Z"
   },
   {
    "duration": 16,
    "start_time": "2023-07-17T20:07:53.568Z"
   },
   {
    "duration": 11,
    "start_time": "2023-07-17T20:07:53.585Z"
   },
   {
    "duration": 5964,
    "start_time": "2023-07-17T20:07:53.597Z"
   },
   {
    "duration": 51571,
    "start_time": "2023-07-17T20:07:59.564Z"
   },
   {
    "duration": 5,
    "start_time": "2023-07-17T20:08:51.136Z"
   },
   {
    "duration": 12,
    "start_time": "2023-07-17T20:08:51.142Z"
   },
   {
    "duration": 7,
    "start_time": "2023-07-17T20:08:51.155Z"
   },
   {
    "duration": 28,
    "start_time": "2023-07-17T20:08:51.163Z"
   },
   {
    "duration": 19,
    "start_time": "2023-07-17T20:08:51.192Z"
   },
   {
    "duration": 19,
    "start_time": "2023-07-17T20:08:51.213Z"
   },
   {
    "duration": 143,
    "start_time": "2023-07-17T20:08:51.233Z"
   },
   {
    "duration": 3054,
    "start_time": "2023-07-17T20:08:51.379Z"
   },
   {
    "duration": 72,
    "start_time": "2023-07-17T20:08:54.435Z"
   },
   {
    "duration": 206766,
    "start_time": "2023-07-17T20:08:54.509Z"
   },
   {
    "duration": 129,
    "start_time": "2023-07-17T20:12:21.276Z"
   },
   {
    "duration": 178618,
    "start_time": "2023-07-17T20:12:21.407Z"
   },
   {
    "duration": 96,
    "start_time": "2023-07-17T20:15:20.027Z"
   },
   {
    "duration": 4,
    "start_time": "2023-07-17T20:15:20.124Z"
   },
   {
    "duration": 123,
    "start_time": "2023-07-17T20:15:20.129Z"
   },
   {
    "duration": 0,
    "start_time": "2023-07-17T20:15:20.254Z"
   },
   {
    "duration": 0,
    "start_time": "2023-07-17T20:15:20.255Z"
   },
   {
    "duration": 0,
    "start_time": "2023-07-17T20:15:20.257Z"
   },
   {
    "duration": 0,
    "start_time": "2023-07-17T20:15:20.258Z"
   },
   {
    "duration": 0,
    "start_time": "2023-07-17T20:15:20.258Z"
   },
   {
    "duration": 0,
    "start_time": "2023-07-17T20:15:20.260Z"
   },
   {
    "duration": 0,
    "start_time": "2023-07-17T20:15:20.261Z"
   },
   {
    "duration": 0,
    "start_time": "2023-07-17T20:15:20.262Z"
   },
   {
    "duration": 0,
    "start_time": "2023-07-17T20:15:20.263Z"
   },
   {
    "duration": 0,
    "start_time": "2023-07-17T20:15:20.264Z"
   },
   {
    "duration": 0,
    "start_time": "2023-07-17T20:15:20.265Z"
   },
   {
    "duration": 0,
    "start_time": "2023-07-17T20:15:20.266Z"
   },
   {
    "duration": 0,
    "start_time": "2023-07-17T20:15:20.267Z"
   },
   {
    "duration": 0,
    "start_time": "2023-07-17T20:15:20.268Z"
   },
   {
    "duration": 0,
    "start_time": "2023-07-17T20:15:20.269Z"
   },
   {
    "duration": 10,
    "start_time": "2023-07-17T20:17:29.543Z"
   },
   {
    "duration": 17,
    "start_time": "2023-07-17T20:17:29.555Z"
   },
   {
    "duration": 23,
    "start_time": "2023-07-17T20:17:29.574Z"
   },
   {
    "duration": 31,
    "start_time": "2023-07-17T20:17:29.600Z"
   },
   {
    "duration": 139,
    "start_time": "2023-07-17T20:17:29.633Z"
   },
   {
    "duration": 6073,
    "start_time": "2023-07-17T20:17:29.774Z"
   },
   {
    "duration": 99,
    "start_time": "2023-07-17T20:17:35.849Z"
   },
   {
    "duration": 354451,
    "start_time": "2023-07-17T20:17:35.949Z"
   },
   {
    "duration": 365,
    "start_time": "2023-07-17T20:23:30.402Z"
   },
   {
    "duration": 176060,
    "start_time": "2023-07-17T20:23:30.769Z"
   },
   {
    "duration": 69,
    "start_time": "2023-07-17T20:26:26.831Z"
   },
   {
    "duration": 6,
    "start_time": "2023-07-17T20:26:26.902Z"
   },
   {
    "duration": 115,
    "start_time": "2023-07-17T20:26:26.911Z"
   },
   {
    "duration": 177,
    "start_time": "2023-07-17T20:26:27.027Z"
   },
   {
    "duration": 134,
    "start_time": "2023-07-17T20:26:27.206Z"
   },
   {
    "duration": 941317,
    "start_time": "2023-07-17T20:32:41.403Z"
   },
   {
    "duration": 416,
    "start_time": "2023-07-17T20:48:33.164Z"
   },
   {
    "duration": 8,
    "start_time": "2023-07-17T20:48:46.991Z"
   },
   {
    "duration": 136,
    "start_time": "2023-07-17T20:48:49.742Z"
   },
   {
    "duration": 133,
    "start_time": "2023-07-17T20:48:56.055Z"
   },
   {
    "duration": 162,
    "start_time": "2023-07-17T20:48:58.935Z"
   },
   {
    "duration": 16,
    "start_time": "2023-07-17T20:50:20.195Z"
   },
   {
    "duration": 1517,
    "start_time": "2023-07-17T21:00:32.269Z"
   },
   {
    "duration": 71,
    "start_time": "2023-07-17T21:00:33.788Z"
   },
   {
    "duration": 5,
    "start_time": "2023-07-17T21:00:33.860Z"
   },
   {
    "duration": 693,
    "start_time": "2023-07-17T21:00:33.867Z"
   },
   {
    "duration": 7,
    "start_time": "2023-07-17T21:00:34.562Z"
   },
   {
    "duration": 25,
    "start_time": "2023-07-17T21:00:34.570Z"
   },
   {
    "duration": 962,
    "start_time": "2023-07-17T21:00:34.596Z"
   },
   {
    "duration": 16,
    "start_time": "2023-07-17T21:00:35.560Z"
   },
   {
    "duration": 20,
    "start_time": "2023-07-17T21:00:35.577Z"
   },
   {
    "duration": 15,
    "start_time": "2023-07-17T21:00:35.600Z"
   },
   {
    "duration": 26,
    "start_time": "2023-07-17T21:00:35.617Z"
   },
   {
    "duration": 46,
    "start_time": "2023-07-17T21:00:35.645Z"
   },
   {
    "duration": 7626,
    "start_time": "2023-07-17T21:00:35.693Z"
   },
   {
    "duration": 50569,
    "start_time": "2023-07-17T21:00:43.320Z"
   },
   {
    "duration": 5,
    "start_time": "2023-07-17T21:01:33.890Z"
   },
   {
    "duration": 10,
    "start_time": "2023-07-17T21:01:33.896Z"
   },
   {
    "duration": 15,
    "start_time": "2023-07-17T21:01:33.907Z"
   },
   {
    "duration": 8,
    "start_time": "2023-07-17T21:01:33.923Z"
   },
   {
    "duration": 9,
    "start_time": "2023-07-17T21:01:33.932Z"
   },
   {
    "duration": 7,
    "start_time": "2023-07-17T21:01:33.942Z"
   },
   {
    "duration": 125,
    "start_time": "2023-07-17T21:01:33.950Z"
   },
   {
    "duration": 3091,
    "start_time": "2023-07-17T21:01:34.076Z"
   },
   {
    "duration": 732,
    "start_time": "2023-07-17T21:01:37.168Z"
   },
   {
    "duration": 197597,
    "start_time": "2023-07-17T21:01:37.902Z"
   },
   {
    "duration": 157,
    "start_time": "2023-07-17T21:04:55.501Z"
   },
   {
    "duration": 179042,
    "start_time": "2023-07-17T21:04:55.660Z"
   },
   {
    "duration": 89,
    "start_time": "2023-07-17T21:07:54.704Z"
   },
   {
    "duration": 5,
    "start_time": "2023-07-17T21:07:54.797Z"
   },
   {
    "duration": 27,
    "start_time": "2023-07-17T21:07:54.803Z"
   },
   {
    "duration": 27,
    "start_time": "2023-07-17T21:07:54.833Z"
   },
   {
    "duration": 22,
    "start_time": "2023-07-17T21:07:54.864Z"
   },
   {
    "duration": 16,
    "start_time": "2023-07-17T21:07:54.888Z"
   },
   {
    "duration": 18,
    "start_time": "2023-07-17T21:07:54.906Z"
   },
   {
    "duration": 68,
    "start_time": "2023-07-17T21:07:54.926Z"
   },
   {
    "duration": 140,
    "start_time": "2023-07-17T21:07:54.995Z"
   },
   {
    "duration": 4793,
    "start_time": "2023-07-17T21:07:55.136Z"
   },
   {
    "duration": 101,
    "start_time": "2023-07-17T21:07:59.931Z"
   },
   {
    "duration": 903099,
    "start_time": "2023-07-17T21:08:00.034Z"
   },
   {
    "duration": 323,
    "start_time": "2023-07-17T21:23:03.135Z"
   },
   {
    "duration": 178373,
    "start_time": "2023-07-17T21:23:03.459Z"
   },
   {
    "duration": 104,
    "start_time": "2023-07-17T21:26:01.833Z"
   },
   {
    "duration": 8,
    "start_time": "2023-07-17T21:26:01.938Z"
   },
   {
    "duration": 283,
    "start_time": "2023-07-17T21:26:01.947Z"
   },
   {
    "duration": 212,
    "start_time": "2023-07-17T21:26:02.231Z"
   },
   {
    "duration": 148,
    "start_time": "2023-07-17T21:26:02.445Z"
   },
   {
    "duration": 1541,
    "start_time": "2023-07-18T14:00:45.808Z"
   },
   {
    "duration": 184,
    "start_time": "2023-07-18T14:00:47.351Z"
   },
   {
    "duration": 5,
    "start_time": "2023-07-18T14:00:47.537Z"
   },
   {
    "duration": 597,
    "start_time": "2023-07-18T14:00:47.544Z"
   },
   {
    "duration": 6,
    "start_time": "2023-07-18T14:00:48.143Z"
   },
   {
    "duration": 16,
    "start_time": "2023-07-18T14:00:48.150Z"
   },
   {
    "duration": 810,
    "start_time": "2023-07-18T14:00:48.167Z"
   },
   {
    "duration": 14,
    "start_time": "2023-07-18T14:00:48.978Z"
   },
   {
    "duration": 6,
    "start_time": "2023-07-18T14:00:48.993Z"
   },
   {
    "duration": 10,
    "start_time": "2023-07-18T14:00:49.001Z"
   },
   {
    "duration": 25,
    "start_time": "2023-07-18T14:00:49.012Z"
   },
   {
    "duration": 11,
    "start_time": "2023-07-18T14:00:49.039Z"
   },
   {
    "duration": 4488,
    "start_time": "2023-07-18T14:00:49.051Z"
   },
   {
    "duration": 44632,
    "start_time": "2023-07-18T14:00:53.540Z"
   },
   {
    "duration": 5,
    "start_time": "2023-07-18T14:01:38.173Z"
   },
   {
    "duration": 16,
    "start_time": "2023-07-18T14:01:38.179Z"
   },
   {
    "duration": 30,
    "start_time": "2023-07-18T14:01:38.196Z"
   },
   {
    "duration": 19,
    "start_time": "2023-07-18T14:01:38.228Z"
   },
   {
    "duration": 41,
    "start_time": "2023-07-18T14:01:38.248Z"
   },
   {
    "duration": 19,
    "start_time": "2023-07-18T14:01:38.290Z"
   },
   {
    "duration": 138,
    "start_time": "2023-07-18T14:01:38.311Z"
   },
   {
    "duration": 2849,
    "start_time": "2023-07-18T14:01:38.451Z"
   },
   {
    "duration": 80,
    "start_time": "2023-07-18T14:01:41.306Z"
   },
   {
    "duration": 188248,
    "start_time": "2023-07-18T14:01:41.387Z"
   },
   {
    "duration": 147,
    "start_time": "2023-07-18T14:04:49.636Z"
   },
   {
    "duration": 163704,
    "start_time": "2023-07-18T14:04:49.785Z"
   },
   {
    "duration": 82,
    "start_time": "2023-07-18T14:07:33.491Z"
   },
   {
    "duration": 3,
    "start_time": "2023-07-18T14:07:33.576Z"
   },
   {
    "duration": 30,
    "start_time": "2023-07-18T14:07:33.581Z"
   },
   {
    "duration": 111,
    "start_time": "2023-07-18T14:07:33.612Z"
   },
   {
    "duration": 0,
    "start_time": "2023-07-18T14:07:33.725Z"
   },
   {
    "duration": 0,
    "start_time": "2023-07-18T14:07:33.726Z"
   },
   {
    "duration": 0,
    "start_time": "2023-07-18T14:07:33.727Z"
   },
   {
    "duration": 0,
    "start_time": "2023-07-18T14:07:33.728Z"
   },
   {
    "duration": 0,
    "start_time": "2023-07-18T14:07:33.730Z"
   },
   {
    "duration": 0,
    "start_time": "2023-07-18T14:07:33.731Z"
   },
   {
    "duration": 0,
    "start_time": "2023-07-18T14:07:33.733Z"
   },
   {
    "duration": 0,
    "start_time": "2023-07-18T14:07:33.734Z"
   },
   {
    "duration": 0,
    "start_time": "2023-07-18T14:07:33.735Z"
   },
   {
    "duration": 1,
    "start_time": "2023-07-18T14:07:33.736Z"
   },
   {
    "duration": 0,
    "start_time": "2023-07-18T14:07:33.738Z"
   },
   {
    "duration": 0,
    "start_time": "2023-07-18T14:07:33.740Z"
   },
   {
    "duration": 0,
    "start_time": "2023-07-18T14:07:33.741Z"
   },
   {
    "duration": 0,
    "start_time": "2023-07-18T14:07:33.742Z"
   },
   {
    "duration": 0,
    "start_time": "2023-07-18T14:07:33.744Z"
   },
   {
    "duration": 0,
    "start_time": "2023-07-18T14:07:33.745Z"
   },
   {
    "duration": 4,
    "start_time": "2023-07-18T14:08:28.318Z"
   },
   {
    "duration": 17,
    "start_time": "2023-07-18T14:08:28.324Z"
   },
   {
    "duration": 15,
    "start_time": "2023-07-18T14:08:28.343Z"
   },
   {
    "duration": 3,
    "start_time": "2023-07-18T14:08:28.360Z"
   },
   {
    "duration": 17,
    "start_time": "2023-07-18T14:08:28.365Z"
   },
   {
    "duration": 4,
    "start_time": "2023-07-18T14:08:28.384Z"
   },
   {
    "duration": 24,
    "start_time": "2023-07-18T14:08:28.390Z"
   },
   {
    "duration": 158,
    "start_time": "2023-07-18T14:08:28.416Z"
   },
   {
    "duration": 3599,
    "start_time": "2023-07-18T14:08:28.576Z"
   },
   {
    "duration": 74,
    "start_time": "2023-07-18T14:08:32.176Z"
   },
   {
    "duration": 491307,
    "start_time": "2023-07-18T14:08:32.253Z"
   },
   {
    "duration": 157,
    "start_time": "2023-07-18T14:16:43.561Z"
   },
   {
    "duration": 167270,
    "start_time": "2023-07-18T14:16:43.719Z"
   },
   {
    "duration": 111,
    "start_time": "2023-07-18T14:19:30.990Z"
   },
   {
    "duration": 8,
    "start_time": "2023-07-18T14:19:31.103Z"
   },
   {
    "duration": 145,
    "start_time": "2023-07-18T14:19:31.113Z"
   },
   {
    "duration": 135,
    "start_time": "2023-07-18T14:19:31.259Z"
   },
   {
    "duration": 132,
    "start_time": "2023-07-18T14:19:31.395Z"
   },
   {
    "duration": 3,
    "start_time": "2023-07-18T14:22:45.380Z"
   },
   {
    "duration": 8,
    "start_time": "2023-07-18T14:22:45.385Z"
   },
   {
    "duration": 12,
    "start_time": "2023-07-18T14:22:45.395Z"
   },
   {
    "duration": 12,
    "start_time": "2023-07-18T14:22:45.409Z"
   },
   {
    "duration": 3,
    "start_time": "2023-07-18T14:22:45.423Z"
   },
   {
    "duration": 11,
    "start_time": "2023-07-18T14:22:45.427Z"
   },
   {
    "duration": 4,
    "start_time": "2023-07-18T14:22:45.440Z"
   },
   {
    "duration": 16,
    "start_time": "2023-07-18T14:22:45.446Z"
   },
   {
    "duration": 131,
    "start_time": "2023-07-18T14:22:45.464Z"
   },
   {
    "duration": 5339,
    "start_time": "2023-07-18T14:22:45.596Z"
   },
   {
    "duration": 91,
    "start_time": "2023-07-18T14:22:50.937Z"
   },
   {
    "duration": 841488,
    "start_time": "2023-07-18T14:22:51.029Z"
   },
   {
    "duration": 376,
    "start_time": "2023-07-18T14:36:52.519Z"
   },
   {
    "duration": 180115,
    "start_time": "2023-07-18T14:36:52.897Z"
   },
   {
    "duration": 95,
    "start_time": "2023-07-18T14:39:53.013Z"
   },
   {
    "duration": 115,
    "start_time": "2023-07-18T14:39:53.109Z"
   },
   {
    "duration": 202,
    "start_time": "2023-07-18T14:39:53.225Z"
   },
   {
    "duration": 152,
    "start_time": "2023-07-18T14:39:53.429Z"
   },
   {
    "duration": 10,
    "start_time": "2023-07-18T14:56:25.065Z"
   },
   {
    "duration": 4,
    "start_time": "2023-07-18T14:56:43.013Z"
   }
  ],
  "kernelspec": {
   "display_name": "Python 3 (ipykernel)",
   "language": "python",
   "name": "python3"
  },
  "language_info": {
   "codemirror_mode": {
    "name": "ipython",
    "version": 3
   },
   "file_extension": ".py",
   "mimetype": "text/x-python",
   "name": "python",
   "nbconvert_exporter": "python",
   "pygments_lexer": "ipython3",
   "version": "3.9.13"
  },
  "toc": {
   "base_numbering": 1,
   "nav_menu": {},
   "number_sections": true,
   "sideBar": true,
   "skip_h1_title": true,
   "title_cell": "Содержание",
   "title_sidebar": "Contents",
   "toc_cell": true,
   "toc_position": {
    "height": "calc(100% - 180px)",
    "left": "10px",
    "top": "150px",
    "width": "201.391px"
   },
   "toc_section_display": true,
   "toc_window_display": true
  }
 },
 "nbformat": 4,
 "nbformat_minor": 2
}
